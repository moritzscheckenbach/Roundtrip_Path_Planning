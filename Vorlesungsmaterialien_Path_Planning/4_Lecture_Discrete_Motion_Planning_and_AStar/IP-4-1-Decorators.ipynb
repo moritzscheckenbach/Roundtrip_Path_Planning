{
 "cells": [
  {
   "cell_type": "markdown",
   "metadata": {},
   "source": [
    "Mini Introduction to Decorators\n",
    "===============================\n",
    "This notebook is part of a series of notebooks regarding \"Introduction to robot path planning\".\n",
    "\n",
    "\n",
    "Version | Author\n",
    "------------ | -------------\n",
    "0.1 | Björn Hein\n",
    "\n",
    "License is based on Creative Commons: Attribution-NonCommercial 4.0 International (CC BY-NC 4.0) (pls. check: http://creativecommons.org/licenses/by-nc/4.0/)\n",
    "\n",
    "**This notebook provides some info about decorators. The functionality is used in this lecture to collect data about the planning algorithms, without changing the underlying code too much.**"
   ]
  },
  {
   "cell_type": "markdown",
   "metadata": {},
   "source": [
    "# Decorator\n",
    "\n",
    "Following a typical definition of a function in Python.\n"
   ]
  },
  {
   "cell_type": "code",
   "execution_count": null,
   "metadata": {},
   "outputs": [],
   "source": [
    "def just_some_function():\n",
    "    print(\"Supder Duper!\")"
   ]
  },
  {
   "cell_type": "markdown",
   "metadata": {},
   "source": [
    "And the calling of this function"
   ]
  },
  {
   "cell_type": "code",
   "execution_count": null,
   "metadata": {},
   "outputs": [],
   "source": [
    "just_some_function()"
   ]
  },
  {
   "cell_type": "markdown",
   "metadata": {},
   "source": [
    "Following the definition of a decorator function, which takes as argument a function."
   ]
  },
  {
   "cell_type": "code",
   "execution_count": null,
   "metadata": {},
   "outputs": [],
   "source": [
    "\n",
    "def my_decorator(some_function):\n",
    "    print(\"Info - I was called\")\n",
    "    \n",
    "    intern = 0\n",
    "    print (intern)\n",
    "    def wrapper():\n",
    "        intern += 1\n",
    "        print(\"Something is happening before some_function() is called.\", intern)\n",
    "\n",
    "        some_function()\n",
    "\n",
    "        print(\"Something is happening after some_function() is called.\", intern)\n",
    "\n",
    "    return wrapper"
   ]
  },
  {
   "cell_type": "markdown",
   "metadata": {},
   "source": [
    "Basically the original function is replaced by the decorator function, which in return then calls the original function"
   ]
  },
  {
   "cell_type": "code",
   "execution_count": null,
   "metadata": {},
   "outputs": [],
   "source": [
    "just_some_function = my_decorator(just_some_function)\n",
    "just_some_function()\n"
   ]
  },
  {
   "cell_type": "markdown",
   "metadata": {},
   "source": [
    "# Syntatic sugar\n",
    "\n",
    "There is a special syntax to insert the decorator function smoothly in existing code:"
   ]
  },
  {
   "cell_type": "code",
   "execution_count": null,
   "metadata": {},
   "outputs": [],
   "source": [
    "@my_decorator\n",
    "def just_some_function():\n",
    "    print(\"Supder Duper!\")"
   ]
  },
  {
   "cell_type": "code",
   "execution_count": null,
   "metadata": {},
   "outputs": [],
   "source": [
    "just_some_function()"
   ]
  },
  {
   "cell_type": "code",
   "execution_count": null,
   "metadata": {},
   "outputs": [],
   "source": [
    "@my_decorator\n",
    "def decorated_function():\n",
    "    print(\"Blubber\")"
   ]
  },
  {
   "cell_type": "code",
   "execution_count": null,
   "metadata": {},
   "outputs": [],
   "source": [
    "decorated_function()"
   ]
  },
  {
   "cell_type": "markdown",
   "metadata": {},
   "source": [
    "**Please take note:** The print statement \"Info - I was called\" is called when defining the function with the decorator. In the notebook, if you execute the cell. In a typical python module when you import/load the module."
   ]
  },
  {
   "cell_type": "markdown",
   "metadata": {},
   "source": [
    "The IKPerfMonitor-Module defines a decorator class that can be used to collect data. Please check the examples in the search algorithms (e.g. IKRRT, IKPRMDistanceBased, IKVisibilityRoadmap, etc.)"
   ]
  },
  {
   "cell_type": "code",
   "execution_count": null,
   "metadata": {},
   "outputs": [],
   "source": []
  }
 ],
 "metadata": {
  "kernelspec": {
   "display_name": "Python 3 (ipykernel)",
   "language": "python",
   "name": "python3"
  },
  "language_info": {
   "codemirror_mode": {
    "name": "ipython",
    "version": 3
   },
   "file_extension": ".py",
   "mimetype": "text/x-python",
   "name": "python",
   "nbconvert_exporter": "python",
   "pygments_lexer": "ipython3",
   "version": "3.10.11"
  }
 },
 "nbformat": 4,
 "nbformat_minor": 4
}
