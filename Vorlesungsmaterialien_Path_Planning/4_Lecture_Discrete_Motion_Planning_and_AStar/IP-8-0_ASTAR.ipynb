{
 "cells": [
  {
   "cell_type": "markdown",
   "metadata": {
    "tags": []
   },
   "source": [
    "Introduction\n",
    "============\n",
    "\n",
    "This is interactive work-sheet regarding \"Introduction to path planning\" for the course \"Innovative Programmiermethoden für Industrieroboter\". (Author: Björn Hein)\n",
    "\n",
    "License is based on Creative Commons: Attribution-NonCommercial 4.0 International (CC BY-NC 4.0) (pls. check: http://creativecommons.org/licenses/by-nc/4.0/)\n",
    "\n",
    "This work-sheet conatains a second draft version to implement the A\\* algorithm for path planning applications in Python. But this time based on **networkX**.\n",
    "\n",
    "**Attention**: This worksheet has external dependencies \n",
    "\n",
    "* to the files \"InnoKonz2dEnv.py\" or \"InnoKonzShapelyEnv.py\". These files contain simple 2D environments based on numpy arrays or the shapely library with an interface for the use as collision checking in the algorithms.\n",
    "* to the file \"PlanerBasics.py\", which contains the BaseClass for all planning algorithms \n",
    "\n",
    "Important links are:\n",
    "\n",
    "* General Info: http://www.python.org\n",
    "* Python tutorial http://www.python.org/doc/tut/\n",
    "* NetworkX http://networkx.github.io/\n",
    "* NumPy and SciPy Guide http://docs.scipy.org/\n",
    "* Matplotlib gallery http://matplotlib.sourceforge.net/gallery.html\n",
    "\n",
    "\n",
    "Remember that:\n",
    "\n",
    "* you have to press ctrl-return or shift-return, to execute the code in the code sections, only then the variables are \"generated\" and can be used\n",
    "* you can execute the whole notebook by Cell->runAll"
   ]
  },
  {
   "cell_type": "code",
   "execution_count": 17,
   "metadata": {
    "collapsed": false,
    "jupyter": {
     "outputs_hidden": false
    }
   },
   "outputs": [],
   "source": [
    "import sys\n",
    "sys.path.append(\"templates\")\n",
    "\n",
    "#reload modules if changed externally e.g. InnoKonz2DEnv.\n",
    "#%load_ext autoreload \n",
    "#%autoreload 2"
   ]
  },
  {
   "cell_type": "markdown",
   "metadata": {},
   "source": [
    "Calculating hash value for nodes needed for the close-list\n",
    "====================================\n",
    "\n",
    "As the close-list of the $A^*$ is typically implemented via a *hash-map* and therefore an appropriate hash-function has to be provided to identify the nodes. A suitable way are a key based on the coordinates of the nodes, as there are unique."
   ]
  },
  {
   "cell_type": "code",
   "execution_count": 18,
   "metadata": {},
   "outputs": [],
   "source": [
    "def getNodeID(pos):\n",
    "    \"\"\"Compute a unique identifier based on the position\"\"\"\n",
    "    nodeId = \"-\"\n",
    "    for i in pos:\n",
    "        nodeId += str(i)+\"-\"\n",
    "    return nodeId"
   ]
  },
  {
   "cell_type": "code",
   "execution_count": 19,
   "metadata": {
    "collapsed": false,
    "jupyter": {
     "outputs_hidden": false
    },
    "scrolled": true
   },
   "outputs": [
    {
     "name": "stdout",
     "output_type": "stream",
     "text": [
      "101 -31-30-\n",
      "99\n"
     ]
    }
   ],
   "source": [
    "a = dict()\n",
    "a[getNodeID([20,20])] = 99\n",
    "a[getNodeID([31,30])] = 101\n",
    "\n",
    "print(a[getNodeID([31,30])], getNodeID([31,30]))\n",
    "print(a[getNodeID([20,20])])\n"
   ]
  },
  {
   "cell_type": "markdown",
   "metadata": {},
   "source": [
    "Implementing an A* for path planning\n",
    "====================================\n",
    "\n",
    "In the following there is an example for programming an A*-like path planning algorithm with some modifications. Please check Slides \"AStar-Basics.pdf\".\n",
    "\n",
    "*Remark: handleNode and expandNode are in this example merged to one function*"
   ]
  },
  {
   "cell_type": "markdown",
   "metadata": {},
   "source": [
    "Algorithm\n",
    "---------\n",
    "\n",
    "Info\n",
    "\n",
    "* Function \\__funame\\__ identifies standard internal python function (e.g. \\__init\\__ -> Constructor)\n",
    "* Function _funame indicates a private function (this is just a naming convention, there is now access control to this function)"
   ]
  },
  {
   "cell_type": "code",
   "execution_count": 20,
   "metadata": {
    "collapsed": false,
    "jupyter": {
     "outputs_hidden": false
    }
   },
   "outputs": [],
   "source": [
    "import copy\n",
    "import networkx as nx\n",
    "import heapq\n",
    "import math\n",
    "from scipy.spatial.distance import euclidean, cityblock\n",
    "from IPPlanerBase import PlanerBase"
   ]
  },
  {
   "cell_type": "code",
   "execution_count": 21,
   "metadata": {
    "collapsed": false,
    "jupyter": {
     "outputs_hidden": false
    }
   },
   "outputs": [],
   "source": [
    "class AStar(PlanerBase):\n",
    "  def __init__(self, collChecker = 0):\n",
    "    \"\"\"Contructor:\n",
    "\n",
    "    Initialize all necessary members\"\"\"\n",
    "    \n",
    "    super(AStar,self).__init__(collChecker)\n",
    "    self.graph = nx.DiGraph() # = CloseList\n",
    "    self.openList = [] # (<value>, <node>)\n",
    "   \n",
    "    self.goal      =  []\n",
    "    self.goalFound = False\n",
    "    \n",
    "    self.limits = self._collisionChecker.getEnvironmentLimits()\n",
    "   \n",
    "    self.w = 0.5  \n",
    "    return\n",
    "\n",
    "  def _getNodeID(self,pos):\n",
    "    \"\"\"Compute a unique identifier based on the position\"\"\"\n",
    "\n",
    "    nodeId = \"-\"\n",
    "    for i in pos:\n",
    "        nodeId += str(i)+\"-\"\n",
    "    return nodeId\n",
    "            \n",
    "\n",
    "  def planPath(self, startList, goalList, config):\n",
    "    \"\"\"\n",
    "\n",
    "    Args:\n",
    "        start (array): start position in planning space\n",
    "        goal (array) : goal position in planning space\n",
    "        config (dict): dictionary with the needed information about the configuration options\n",
    "\n",
    "    Example:\n",
    "\n",
    "        config[\"w\"] = 0.5\n",
    "        config[\"heuristic\"] = \"euclid\"\n",
    "\n",
    "    \"\"\"\n",
    "    # 0. reset\n",
    "    self.graph.clear()\n",
    "\n",
    "    # 1. check start and goal whether collision free (s. BaseClass)\n",
    "    checkedStartList, checkedGoalList = self._checkStartGoal(startList,goalList)\n",
    "    \n",
    "    # 2.\n",
    "    self.w = config[\"w\"]\n",
    "    self.heuristic = config[\"heuristic\"]\n",
    "    \n",
    "    self.goal = checkedGoalList[0]\n",
    "    self._addGraphNode(checkedStartList[0])\n",
    "\n",
    "    currentBestName = self._getBestNodeName()\n",
    "    breakNumber = 0\n",
    "    while currentBestName:\n",
    "      if breakNumber > 1000:\n",
    "        break\n",
    "        \n",
    "      breakNumber += 1\n",
    "      \n",
    "      currentBest = self.graph.nodes[currentBestName]\n",
    "        \n",
    "      if currentBest[\"pos\"] == self.goal:\n",
    "        self.solutionPath = []\n",
    "        self._collectPath( currentBestName, self.solutionPath )\n",
    "        self.goalFound = True\n",
    "        break\n",
    "\n",
    "      currentBest[\"status\"]= 'closed'\n",
    "      if self._collisionChecker.pointInCollision(currentBest[\"pos\"]):\n",
    "        currentBest['collision']= 1\n",
    "        currentBestName = self._getBestNodeName()\n",
    "        continue\n",
    "      self.graph.nodes[currentBestName]['collision'] = 0\n",
    "      \n",
    "      # handleNode merges with former expandNode\n",
    "      self._handleNode(currentBestName)\n",
    "      currentBestName = self._getBestNodeName()\n",
    "      \n",
    "    if self.goalFound:\n",
    "        return self.solutionPath\n",
    "    else:\n",
    "        return None\n",
    "\n",
    "  def _insertNodeNameInOpenList(self, nodeName):\n",
    "    \"\"\"Get an existing node stored in graph and put it in the OpenList\"\"\"\n",
    "    heapq.heappush(self.openList,(self._evaluateNode(nodeName),nodeName))\n",
    "\n",
    "  def _addGraphNode(self, pos, fatherName=None):\n",
    "    \"\"\"Add a node based on the position into the graph. Attention: Existing node is overwritten!\"\"\"\n",
    "    self.graph.add_node(self._getNodeID(pos), pos=pos, status='open', g=0)\n",
    "\n",
    "    if fatherName != None:\n",
    "        self.graph.add_edge(self._getNodeID(pos), fatherName)\n",
    "        self.graph.nodes[self._getNodeID(pos)][\"g\"] = self.graph.nodes[fatherName][\"g\"] + 1\n",
    "\n",
    "    self._insertNodeNameInOpenList(self._getNodeID(pos))\n",
    "  \n",
    "   \n",
    "  def _setLimits(self, lowLimit, highLimit):\n",
    "    \"\"\" Sets the limits of the investigated search space \"\"\"\n",
    "    assert(len(lowLimit)==len(highLimit)==self.dim)\n",
    "    self.limits = list()\n",
    "    for i in range(self.dim):\n",
    "      self.limits.append([lowLimit[i],highLimit[i]])\n",
    "    return\n",
    "  \n",
    "  def _getBestNodeName(self):\n",
    "    \"\"\" Returns the best name of best node \"\"\"\n",
    "    return heapq.heappop(self.openList)[1]\n",
    "\n",
    "  def _handleNode(self, nodeName):\n",
    "    \"\"\"Generats possible successor positions in all dimensions\"\"\"\n",
    "    result =  []\n",
    "    node = self.graph.nodes[nodeName]\n",
    "    for i in range(len(node[\"pos\"])):\n",
    "      for u in [-1,1]:\n",
    "        newPos = copy.copy(node[\"pos\"])\n",
    "        newPos[i] += u\n",
    "        if not self._inLimits(newPos):\n",
    "            continue\n",
    "        try:\n",
    "            # Do not do reopening! If node already in graph do not add it... Concequences?\n",
    "            self.graph.nodes[self._getNodeID(newPos)]\n",
    "            continue\n",
    "        except:\n",
    "            pass\n",
    "        \n",
    "        self._addGraphNode(newPos,nodeName)\n",
    "        \n",
    "    return result\n",
    "    \n",
    "  def _computeHeuristicValue(self, nodeName):\n",
    "    \"\"\" Computes Heuristic Value: Manhattan Distance \"\"\"\n",
    "\n",
    "    result = 0\n",
    "    node = self.graph.nodes[nodeName]\n",
    "    if self.heuristic == \"euclidean\":\n",
    "        return euclidean(self.goal, node[\"pos\"])\n",
    "    else:\n",
    "        return cityblock(self.goal, node[\"pos\"])\n",
    "  \n",
    "  def _evaluateNode(self, nodeName):\n",
    "    node = self.graph.nodes[nodeName]\n",
    "    return  self.w * self._computeHeuristicValue(nodeName) + (1 - self.w) * node[\"g\"]\n",
    "\n",
    "                      \n",
    "  def _collectPath(self, nodeName, solutionPath):\n",
    "\n",
    "      fathers = list(self.graph.successors(nodeName))\n",
    "      #print len(fathers)\n",
    "      if len(fathers) == 1:\n",
    "        self._collectPath( fathers[0], solutionPath )\n",
    "      elif len(fathers) == 0:\n",
    "        solutionPath.append(nodeName)\n",
    "        return\n",
    "      else:\n",
    "        raise Exception(\"not suitable numbers of fathers = {}.... please check\".format(len(fathers)))\n",
    "      solutionPath.append(nodeName)\n",
    "      return\n",
    "    \n",
    "  def _inLimits(self, pos):\n",
    "    result = True\n",
    "    for i, limit in enumerate(self.limits):\n",
    "      if pos[i] < limit[0] or pos[i] > limit[1]:\n",
    "        result = False\n",
    "        break;\n",
    "    return result"
   ]
  },
  {
   "cell_type": "code",
   "execution_count": 25,
   "metadata": {
    "collapsed": false,
    "jupyter": {
     "outputs_hidden": false
    }
   },
   "outputs": [],
   "source": [
    "def aStarVisualize(planner, solution, ax = None, nodeSize = 300):\n",
    "    graph = planner.graph\n",
    "    collChecker = planner._collisionChecker\n",
    "    # get a list of positions of all nodes by returning the content of the attribute 'pos'\n",
    "    pos = nx.get_node_attributes(graph,'pos')\n",
    "    color = nx.get_node_attributes(graph,'color')\n",
    "    \n",
    "    # get a list of degrees of all nodes\n",
    "    #degree = nx.degree_centrality(graph)\n",
    "    \n",
    "    # draw graph (nodes colorized by degree)\n",
    "    open_nodes = [node for node,attribute in graph.nodes(data=True) if attribute['status']==\"open\"]\n",
    "    draw_nodes = nx.draw_networkx_nodes(graph, pos, node_color='#FFFFFF', nodelist=open_nodes, ax = ax, node_size=nodeSize)\n",
    "    draw_nodes.set_edgecolor(\"b\")\n",
    "    open_nodes = [node for node,attribute in graph.nodes(data=True) if attribute['status']==\"closed\"]\n",
    "    draw_nodes = nx.draw_networkx_nodes(graph, pos, node_color='#0000FF', nodelist=open_nodes, ax = ax, node_size=nodeSize)\n",
    "    #nx.draw_networkx_nodes(graph, pos,  cmap=plt.cm.Blues, ax = ax, node_size=nodeSize)\n",
    "    nx.draw_networkx_edges(graph,pos,\n",
    "                               edge_color='b',\n",
    "                               width=3.0\n",
    "                            )\n",
    "    \n",
    "    collChecker.drawObstacles(ax)\n",
    "    \n",
    "    # draw nodes based on solution path\n",
    "    Gsp = nx.subgraph(graph,solution)\n",
    "    nx.draw_networkx_nodes(Gsp,pos,\n",
    "                            node_size=nodeSize,\n",
    "                             node_color='g')\n",
    "        \n",
    "    # draw edges based on solution path\n",
    "    nx.draw_networkx_edges(Gsp,pos,alpha=0.8,edge_color='g',width=10,arrows=True)\n",
    " \n",
    "    nx.draw_networkx_nodes(graph,pos,nodelist=[solution[0]],\n",
    "                           node_size=300,\n",
    "                           node_color='#00dd00',  ax = ax)\n",
    "    nx.draw_networkx_labels(graph,pos,labels={solution[0]: \"S\"},  ax = ax)\n",
    "\n",
    "\n",
    "    nx.draw_networkx_nodes(graph,pos,nodelist=[solution[-1]],\n",
    "                                   node_size=300,\n",
    "                                   node_color='#DD0000',  ax = ax)\n",
    "    nx.draw_networkx_labels(graph,pos,labels={solution[-1]: \"G\"},  ax = ax)\n"
   ]
  },
  {
   "cell_type": "markdown",
   "metadata": {},
   "source": [
    "Questions:\n",
    "\n",
    "* What could be useful to be checked in function setStartGoal besides start and goal having the same dimension?\n",
    "* What is missing for a correct implementation of the A*? \n",
    "  * Why does this version not necessarily find the best solution? \n",
    "  * Why is it nevertheless useful to do so?\n",
    "\n"
   ]
  },
  {
   "cell_type": "markdown",
   "metadata": {},
   "source": [
    "Answers:\n",
    "\n",
    "* "
   ]
  },
  {
   "cell_type": "markdown",
   "metadata": {},
   "source": [
    "Set up planner\n",
    "--------------"
   ]
  },
  {
   "cell_type": "markdown",
   "metadata": {},
   "source": [
    "### Do the planning"
   ]
  },
  {
   "cell_type": "code",
   "execution_count": null,
   "metadata": {},
   "outputs": [],
   "source": []
  },
  {
   "cell_type": "code",
   "execution_count": 26,
   "metadata": {
    "collapsed": false,
    "jupyter": {
     "outputs_hidden": false
    }
   },
   "outputs": [],
   "source": [
    "import matplotlib.pyplot as plt\n",
    "%matplotlib inline\n",
    "\n",
    "from shapely.geometry import Point, Polygon, LineString\n",
    "from IPEnvironment import CollisionChecker\n",
    "\n",
    "# Definition of a testing environment\n",
    "trapField = dict()\n",
    "trapField[\"obs1\"] =   LineString([(6, 18), (6, 8), (16, 8), (16,18)]).buffer(1.0)\n",
    "\n",
    "environment = CollisionChecker(trapField)\n",
    "\n",
    "\n",
    "start = [[10,20]]\n",
    "goal  = [[13,1]]\n",
    "\n",
    "# AStar\n",
    "astar = AStar(environment)\n",
    "\n",
    "# To know what is part on the config please consult the documentation of planPath\n",
    "astarConfig = dict()\n",
    "astarConfig[\"w\"] = .99\n",
    "\n",
    "astarConfig[\"heuristic\"]  = \"euclidean\"\n",
    "\n",
    "\n",
    "solution = astar.planPath(start, goal, astarConfig )\n"
   ]
  },
  {
   "cell_type": "markdown",
   "metadata": {},
   "source": [
    "### Do the visualization"
   ]
  },
  {
   "cell_type": "markdown",
   "metadata": {},
   "source": [
    "* Idea: Show internal data of AStar\n",
    "* show closeList and the evaluated values for these nodes\n",
    "* add these information in a matrix"
   ]
  },
  {
   "cell_type": "code",
   "execution_count": 28,
   "metadata": {
    "collapsed": false,
    "jupyter": {
     "outputs_hidden": false
    }
   },
   "outputs": [
    {
     "ename": "AttributeError",
     "evalue": "'Axes' object has no attribute 'set_edgecolor'",
     "output_type": "error",
     "traceback": [
      "\u001b[1;31m---------------------------------------------------------------------------\u001b[0m",
      "\u001b[1;31mAttributeError\u001b[0m                            Traceback (most recent call last)",
      "Cell \u001b[1;32mIn[28], line 3\u001b[0m\n\u001b[0;32m      1\u001b[0m fig \u001b[38;5;241m=\u001b[39m plt\u001b[38;5;241m.\u001b[39mfigure(figsize\u001b[38;5;241m=\u001b[39m(\u001b[38;5;241m10\u001b[39m,\u001b[38;5;241m10\u001b[39m))\n\u001b[0;32m      2\u001b[0m ax \u001b[38;5;241m=\u001b[39m fig\u001b[38;5;241m.\u001b[39madd_subplot(\u001b[38;5;241m1\u001b[39m,\u001b[38;5;241m1\u001b[39m,\u001b[38;5;241m1\u001b[39m)\n\u001b[1;32m----> 3\u001b[0m \u001b[43maStarVisualize\u001b[49m\u001b[43m(\u001b[49m\u001b[43mastar\u001b[49m\u001b[43m,\u001b[49m\u001b[43m \u001b[49m\u001b[43msolution\u001b[49m\u001b[43m,\u001b[49m\u001b[43m \u001b[49m\u001b[43max\u001b[49m\u001b[43m \u001b[49m\u001b[38;5;241;43m=\u001b[39;49m\u001b[43m \u001b[49m\u001b[43max\u001b[49m\u001b[43m)\u001b[49m\n",
      "Cell \u001b[1;32mIn[25], line 14\u001b[0m, in \u001b[0;36maStarVisualize\u001b[1;34m(planner, solution, ax, nodeSize)\u001b[0m\n\u001b[0;32m     12\u001b[0m open_nodes \u001b[38;5;241m=\u001b[39m [node \u001b[38;5;28;01mfor\u001b[39;00m node,attribute \u001b[38;5;129;01min\u001b[39;00m graph\u001b[38;5;241m.\u001b[39mnodes(data\u001b[38;5;241m=\u001b[39m\u001b[38;5;28;01mTrue\u001b[39;00m) \u001b[38;5;28;01mif\u001b[39;00m attribute[\u001b[38;5;124m'\u001b[39m\u001b[38;5;124mstatus\u001b[39m\u001b[38;5;124m'\u001b[39m]\u001b[38;5;241m==\u001b[39m\u001b[38;5;124m\"\u001b[39m\u001b[38;5;124mopen\u001b[39m\u001b[38;5;124m\"\u001b[39m]\n\u001b[0;32m     13\u001b[0m draw_nodes \u001b[38;5;241m=\u001b[39m nx\u001b[38;5;241m.\u001b[39mdraw_networkx_nodes(graph, pos, node_color\u001b[38;5;241m=\u001b[39m\u001b[38;5;124m'\u001b[39m\u001b[38;5;124m#FFFFFF\u001b[39m\u001b[38;5;124m'\u001b[39m, nodelist\u001b[38;5;241m=\u001b[39mopen_nodes, ax \u001b[38;5;241m=\u001b[39m ax, node_size\u001b[38;5;241m=\u001b[39mnodeSize)\n\u001b[1;32m---> 14\u001b[0m \u001b[43mdraw_nodes\u001b[49m\u001b[38;5;241;43m.\u001b[39;49m\u001b[43mset_edgecolor\u001b[49m(\u001b[38;5;124m\"\u001b[39m\u001b[38;5;124mb\u001b[39m\u001b[38;5;124m\"\u001b[39m)\n\u001b[0;32m     15\u001b[0m open_nodes \u001b[38;5;241m=\u001b[39m [node \u001b[38;5;28;01mfor\u001b[39;00m node,attribute \u001b[38;5;129;01min\u001b[39;00m graph\u001b[38;5;241m.\u001b[39mnodes(data\u001b[38;5;241m=\u001b[39m\u001b[38;5;28;01mTrue\u001b[39;00m) \u001b[38;5;28;01mif\u001b[39;00m attribute[\u001b[38;5;124m'\u001b[39m\u001b[38;5;124mstatus\u001b[39m\u001b[38;5;124m'\u001b[39m]\u001b[38;5;241m==\u001b[39m\u001b[38;5;124m\"\u001b[39m\u001b[38;5;124mclosed\u001b[39m\u001b[38;5;124m\"\u001b[39m]\n\u001b[0;32m     16\u001b[0m draw_nodes \u001b[38;5;241m=\u001b[39m nx\u001b[38;5;241m.\u001b[39mdraw_networkx_nodes(graph, pos, node_color\u001b[38;5;241m=\u001b[39m\u001b[38;5;124m'\u001b[39m\u001b[38;5;124m#0000FF\u001b[39m\u001b[38;5;124m'\u001b[39m, nodelist\u001b[38;5;241m=\u001b[39mopen_nodes, ax \u001b[38;5;241m=\u001b[39m ax, node_size\u001b[38;5;241m=\u001b[39mnodeSize)\n",
      "\u001b[1;31mAttributeError\u001b[0m: 'Axes' object has no attribute 'set_edgecolor'"
     ]
    },
    {
     "data": {
      "image/png": "[encoded data removed]",
      "text/plain": [
       "<Figure size 1000x1000 with 1 Axes>"
      ]
     },
     "metadata": {},
     "output_type": "display_data"
    }
   ],
   "source": [
    "fig = plt.figure(figsize=(10,10))\n",
    "ax = fig.add_subplot(1,1,1)\n",
    "aStarVisualize(astar, solution, ax = ax)"
   ]
  },
  {
   "cell_type": "markdown",
   "metadata": {
    "tags": []
   },
   "source": [
    "Experiments\n",
    "===========\n",
    "\n",
    "* Change evaluation function to f(n) = w * h + (1-w) * g, and visualize results\n",
    "* Implement another heuristic (e.g. Euklid) and make it switchable via a parameter.\n"
   ]
  },
  {
   "cell_type": "code",
   "execution_count": null,
   "metadata": {},
   "outputs": [],
   "source": []
  },
  {
   "cell_type": "code",
   "execution_count": null,
   "metadata": {},
   "outputs": [],
   "source": []
  },
  {
   "cell_type": "code",
   "execution_count": null,
   "metadata": {},
   "outputs": [],
   "source": []
  }
 ],
 "metadata": {
  "kernelspec": {
   "display_name": "Python 3",
   "language": "python",
   "name": "python3"
  },
  "language_info": {
   "codemirror_mode": {
    "name": "ipython",
    "version": 3
   },
   "file_extension": ".py",
   "mimetype": "text/x-python",
   "name": "python",
   "nbconvert_exporter": "python",
   "pygments_lexer": "ipython3",
   "version": "3.11.9"
  }
 },
 "nbformat": 4,
 "nbformat_minor": 4
}
