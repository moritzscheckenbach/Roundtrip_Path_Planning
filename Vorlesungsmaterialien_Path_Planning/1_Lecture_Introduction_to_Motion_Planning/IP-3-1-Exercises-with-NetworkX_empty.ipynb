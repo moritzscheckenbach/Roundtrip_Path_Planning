{
 "cells": [
  {
   "cell_type": "markdown",
   "id": "fcb6c8d6-5822-4841-9800-171a14ef625b",
   "metadata": {},
   "source": [
    "# Exercises with NetworkX"
   ]
  },
  {
   "cell_type": "markdown",
   "id": "ced81467-6ea8-4742-b64e-308cb7691d01",
   "metadata": {},
   "source": [
    "1. Graph with x nodes at random position\n",
    "2. Graph with x nodes at random position and all nodes are connected with edges\n",
    "3. Graph with x nodes at random position, nodes with given distance are connected\n",
    "\n",
    "\n",
    "Following the results from the lecture discussion\n"
   ]
  },
  {
   "cell_type": "code",
   "execution_count": null,
   "id": "639ca454-21a8-4dda-9771-502c5c8c43a6",
   "metadata": {},
   "outputs": [],
   "source": []
  }
 ],
 "metadata": {
  "kernelspec": {
   "display_name": "Python 3 (ipykernel)",
   "language": "python",
   "name": "python3"
  },
  "language_info": {
   "codemirror_mode": {
    "name": "ipython",
    "version": 3
   },
   "file_extension": ".py",
   "mimetype": "text/x-python",
   "name": "python",
   "nbconvert_exporter": "python",
   "pygments_lexer": "ipython3",
   "version": "3.10.11"
  },
  "vscode": {
   "interpreter": {
    "hash": "b0fa6594d8f4cbf19f97940f81e996739fb7646882a419484c72d19e05852a7e"
   }
  }
 },
 "nbformat": 4,
 "nbformat_minor": 5
}
