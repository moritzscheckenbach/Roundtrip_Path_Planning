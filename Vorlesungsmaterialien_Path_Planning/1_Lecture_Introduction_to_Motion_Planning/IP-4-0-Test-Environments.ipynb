{
 "cells": [
  {
   "cell_type": "markdown",
   "metadata": {
    "slideshow": {
     "slide_type": "slide"
    }
   },
   "source": [
    "Introduction\n",
    "============\n",
    "**Topic**: Setting up a simple 2D - Environment for testing \"collisions\".\n",
    "\n",
    "This is an early version of an interactive work-sheet regarding \"Introduction to path planning\".\n",
    "\n",
    "Version | Author\n",
    "------------ | -------------\n",
    "0.2 | Björn Hein\n",
    "\n",
    "One goal of the notebook series is to discuss and implement algorithms for collision-free path planning. Therefore an concept is needed, to represent and indicate obstacles during search. This notebook will give an hint how to implement such an \"environment\" in a very simple way using an python library called **Shapely**.\n",
    "\n",
    "License is based on Creative Commons: Attribution-NonCommercial 4.0 International (CC BY-NC 4.0) (pls. check: http://creativecommons.org/licenses/by-nc/4.0/)\n",
    "\n",
    "Important links are:\n",
    "\n",
    "* General Info: http://www.python.org\n",
    "* Python tutorial http://www.python.org/doc/tut/\n",
    "* NetworkX http://networkx.github.io/\n",
    "* NumPy and SciPy Guide http://docs.scipy.org/\n",
    "* Matplotlib gallery http://matplotlib.sourceforge.net/gallery.html\n",
    "\n"
   ]
  },
  {
   "cell_type": "markdown",
   "metadata": {},
   "source": [
    "Fehler bei shapely/descartes: Mit pip install --force-reinstall -v \"shapely==1.8.5.post1\" lässt sich die zur aktuellen descartes versioni kompatible Shapely-Variante installieren."
   ]
  },
  {
   "cell_type": "markdown",
   "metadata": {
    "slideshow": {
     "slide_type": "slide"
    }
   },
   "source": [
    "# Goal\n",
    "\n",
    "* Understanding how to set up a 2D testing Environment\n",
    "* Understanding hot to visualizing the environment\n",
    "* Understanding how to set up a collision checker for the path planning algorithms\n",
    "\n"
   ]
  },
  {
   "cell_type": "markdown",
   "metadata": {},
   "source": [
    "Set up the Environment\n",
    "======================\n",
    "\n",
    "The planning will take place in a certain environment. For testing it is sometimes useful to simplify the environment, e.g. taking a simple 2D approach.\n",
    "\n",
    "**Remember**: Even if the obstacles will be \"visible\", all our investigated algorithms have to assume, that these **obstacles are not visible (not explicitly computable)**, but have to be detected during search (implicit configuration space).\n"
   ]
  },
  {
   "cell_type": "markdown",
   "metadata": {},
   "source": [
    "\n",
    "As proposal the 2D-Python library Shapely seems to be a good choice (https://pypi.python.org/pypi/Shapely).\n",
    "\n",
    "Shapely is a BSD-licensed Python package for manipulation and analysis of planar geometric objects. It is based on the widely deployed GEOS (the engine of PostGIS) and JTS (from which GEOS is ported) libraries.\n",
    "\n",
    "Shapely provides much more functionality than needed. In the context of the lecture it will be used to test different geometric objects for collision.\n",
    "\n",
    "For more details, see: The Shapely manual - http://toblerity.org/shapely/manual.html\n",
    "\n"
   ]
  },
  {
   "cell_type": "code",
   "execution_count": 2,
   "metadata": {},
   "outputs": [],
   "source": [
    "#pip install shapely"
   ]
  },
  {
   "cell_type": "markdown",
   "metadata": {},
   "source": [
    "Idea\n",
    "-----\n",
    "\n",
    "The idea is to use the functionality provided by shapely and programmatically define the environemnt."
   ]
  },
  {
   "cell_type": "code",
   "execution_count": 20,
   "metadata": {
    "tags": []
   },
   "outputs": [],
   "source": [
    "import matplotlib.pyplot as plt\n",
    "#%matplotlib notebook\n",
    "\n",
    "# use following for pdf generation\n",
    "%matplotlib inline\n",
    "\n",
    "from shapely.geometry import Point, Polygon, LineString\n",
    "from descartes.patch import PolygonPatch"
   ]
  },
  {
   "cell_type": "code",
   "execution_count": null,
   "metadata": {},
   "outputs": [],
   "source": [
    "#import descartes # !!! nicht kompatibel ab Shapely 2.0 + !!!"
   ]
  },
  {
   "cell_type": "code",
   "execution_count": 58,
   "metadata": {},
   "outputs": [],
   "source": [
    "import shapely"
   ]
  },
  {
   "cell_type": "code",
   "execution_count": 59,
   "metadata": {},
   "outputs": [
    {
     "data": {
      "text/plain": [
       "'2.0.6'"
      ]
     },
     "execution_count": 59,
     "metadata": {},
     "output_type": "execute_result"
    }
   ],
   "source": [
    "shapely.__version__"
   ]
  },
  {
   "cell_type": "markdown",
   "metadata": {},
   "source": [
    "Defining a scene\n",
    "-----------------\n",
    "\n",
    "1. Definition of obstacles via polygons. \n",
    "2. As storage a dict is proposed containing then the \"scene\""
   ]
  },
  {
   "cell_type": "code",
   "execution_count": 64,
   "metadata": {
    "tags": []
   },
   "outputs": [],
   "source": [
    "simpleField = dict()\n",
    "simpleField[\"obs1\"] = Polygon([(6, 14), (13, 14), (13, 11), (6,11)]).buffer(2.0) # Buffer erzeugt einen Puffer um das Polygon, sodass es größter wird\n",
    "simpleField[\"obs2\"] = Polygon([(16, 5), (19, 5), (19, 3),(16,3)]).buffer(1.0)"
   ]
  },
  {
   "cell_type": "markdown",
   "metadata": {},
   "source": [
    "Based on that scene definition a simple viszalization function can be written:"
   ]
  },
  {
   "cell_type": "code",
   "execution_count": 71,
   "metadata": {
    "tags": []
   },
   "outputs": [],
   "source": [
    "def drawScene(content, limits=[[0,23],[0,23]], figsize=(10,10)):\n",
    "    fig = plt.figure(figsize=figsize)\n",
    "    ax = fig.add_subplot(1,1,1)\n",
    "    ax.set_xlim(limits[0])\n",
    "    ax.set_ylim(limits[1])\n",
    "    for key, value in content.items():\n",
    "        #patch = PolygonPatch(value, facecolor=\"red\", alpha=0.8, zorder=2, label=key)\n",
    "        x, y = value.exterior.xy\n",
    "        ax.fill(x, y, facecolor=\"red\", edgecolor=\"black\", alpha=0.8, zorder=2, label=key)"
   ]
  },
  {
   "cell_type": "code",
   "execution_count": 72,
   "metadata": {
    "collapsed": false,
    "jupyter": {
     "outputs_hidden": false
    }
   },
   "outputs": [
    {
     "data": {
      "image/png": "[encoded data removed]",
      "text/plain": [
       "<Figure size 300x300 with 1 Axes>"
      ]
     },
     "metadata": {},
     "output_type": "display_data"
    }
   ],
   "source": [
    "drawScene(simpleField, limits=[[0,23],[0,23]], figsize=(3,3))"
   ]
  },
  {
   "cell_type": "markdown",
   "metadata": {},
   "source": [
    "Following the trap example. Please see that in principle this is only one line, but extended with a radius (**buffer**)\n"
   ]
  },
  {
   "cell_type": "code",
   "execution_count": 73,
   "metadata": {
    "tags": []
   },
   "outputs": [],
   "source": [
    "trapField = dict()\n",
    "trapField[\"obs1\"] =   LineString([(6, 18), (6, 8), (16, 8), (16,18)]).buffer(.2)"
   ]
  },
  {
   "cell_type": "code",
   "execution_count": 74,
   "metadata": {
    "collapsed": false,
    "jupyter": {
     "outputs_hidden": false
    }
   },
   "outputs": [
    {
     "data": {
      "image/png": "[encoded data removed]",
      "text/plain": [
       "<Figure size 500x500 with 1 Axes>"
      ]
     },
     "metadata": {},
     "output_type": "display_data"
    }
   ],
   "source": [
    "drawScene(trapField, figsize=(5,5))"
   ]
  },
  {
   "cell_type": "markdown",
   "metadata": {},
   "source": [
    "For a more complicated example see:\n"
   ]
  },
  {
   "cell_type": "code",
   "execution_count": 75,
   "metadata": {
    "tags": []
   },
   "outputs": [],
   "source": [
    "special = dict()\n",
    "special[\"base\"] = LineString([(11,0),(11,18)]).buffer(0.5)\n",
    "for i in range(15):\n",
    "    target1 = (11-0.5*i,18-i)\n",
    "    target2 = (11+0.5*i,18-i)\n",
    "    special[\"partA\"+str(i)] = LineString([(11,18-i), target1 ]).buffer(0.2)\n",
    "    special[\"partB\"+str(i)] = LineString([(11,18-i), target2 ]).buffer(0.2)\n",
    "    if i % 2 == 0:\n",
    "        special[\"candA\"+str(i)] = LineString([target1, (target1[0], target1[1]+1.5)]).buffer(0.05)\n",
    "        special[\"candB\"+str(i)] = LineString([target2, (target2[0], target2[1]+1.5)]).buffer(0.05)"
   ]
  },
  {
   "cell_type": "code",
   "execution_count": 76,
   "metadata": {
    "scrolled": true,
    "tags": []
   },
   "outputs": [
    {
     "data": {
      "image/png": "[encoded data removed]",
      "text/plain": [
       "<Figure size 1000x1000 with 1 Axes>"
      ]
     },
     "metadata": {},
     "output_type": "display_data"
    }
   ],
   "source": [
    "drawScene(special)"
   ]
  },
  {
   "cell_type": "markdown",
   "metadata": {
    "tags": []
   },
   "source": [
    "Collision checking\n",
    "=================\n",
    "\n",
    "One advantage of using shapely is the ability to easily check geometric objects for **intersection** and **distance**.\n",
    "\n",
    "Point - Point\n",
    "---------------"
   ]
  },
  {
   "cell_type": "code",
   "execution_count": 77,
   "metadata": {
    "tags": []
   },
   "outputs": [
    {
     "name": "stdout",
     "output_type": "stream",
     "text": [
      "True\n",
      "0.0\n"
     ]
    }
   ],
   "source": [
    "object1 = Point([11,5]).buffer(0.1)\n",
    "object2 = Point([10,5]).buffer(2.0)\n",
    "\n",
    "print(object1.intersects(object2))\n",
    "print(object1.distance(object2))"
   ]
  },
  {
   "cell_type": "code",
   "execution_count": 78,
   "metadata": {
    "collapsed": false,
    "jupyter": {
     "outputs_hidden": false
    }
   },
   "outputs": [],
   "source": [
    "scene = dict()\n",
    "scene[\"ob1\"] = object1\n",
    "scene[\"ob2\"] = object2"
   ]
  },
  {
   "cell_type": "code",
   "execution_count": 79,
   "metadata": {
    "collapsed": false,
    "jupyter": {
     "outputs_hidden": false
    }
   },
   "outputs": [
    {
     "data": {
      "image/png": "[encoded data removed]",
      "text/plain": [
       "<Figure size 300x300 with 1 Axes>"
      ]
     },
     "metadata": {},
     "output_type": "display_data"
    }
   ],
   "source": [
    "drawScene(scene, figsize=(3,3))"
   ]
  },
  {
   "cell_type": "markdown",
   "metadata": {},
   "source": [
    "Point-Line example\n",
    "-----------------------"
   ]
  },
  {
   "cell_type": "code",
   "execution_count": 99,
   "metadata": {
    "collapsed": false,
    "jupyter": {
     "outputs_hidden": false
    }
   },
   "outputs": [
    {
     "name": "stdout",
     "output_type": "stream",
     "text": [
      "True\n",
      "0.0\n"
     ]
    }
   ],
   "source": [
    "lineScene = dict()\n",
    "lineScene[\"point\"] = Point([10,5]).buffer(1.0).buffer(3.0)\n",
    "lineScene[\"ob2\"] = LineString([[1,2],[10,10]]).buffer(.1)\n",
    "\n",
    "print(lineScene[\"point\"].intersects(lineScene[\"ob2\"]))\n",
    "print(lineScene[\"point\"].distance(lineScene[\"ob2\"]))\n"
   ]
  },
  {
   "cell_type": "code",
   "execution_count": 100,
   "metadata": {
    "collapsed": false,
    "jupyter": {
     "outputs_hidden": false
    }
   },
   "outputs": [
    {
     "name": "stdout",
     "output_type": "stream",
     "text": [
      "point\n",
      "ob2\n"
     ]
    }
   ],
   "source": [
    "for key, obj in lineScene.items():\n",
    "    print(key)"
   ]
  },
  {
   "cell_type": "code",
   "execution_count": 101,
   "metadata": {
    "collapsed": false,
    "jupyter": {
     "outputs_hidden": false
    }
   },
   "outputs": [
    {
     "data": {
      "image/png": "[encoded data removed]",
      "text/plain": [
       "<Figure size 500x500 with 1 Axes>"
      ]
     },
     "metadata": {},
     "output_type": "display_data"
    }
   ],
   "source": [
    "drawScene(lineScene, figsize=(5,5))"
   ]
  },
  {
   "cell_type": "markdown",
   "metadata": {},
   "source": [
    "Definition of an CollisionChecker\n",
    "===================================\n",
    "\n",
    "Following a proposal for a collision checker based on Shapely."
   ]
  },
  {
   "cell_type": "code",
   "execution_count": null,
   "metadata": {
    "collapsed": false,
    "jupyter": {
     "outputs_hidden": false
    }
   },
   "outputs": [],
   "source": [
    "class CollisionChecker(object):\n",
    "\n",
    "    def __init__(self, scene, limits = [[0.0,22.0],[0.0,22.0]], statistic = None):\n",
    "        self.scene = scene\n",
    "        self.limits = limits\n",
    "        \n",
    "    def getDim(self):\n",
    "        \"\"\" Return dimension of Environment (Shapely should currently always be 2)\"\"\"\n",
    "        return 2\n",
    "    \n",
    "    def getEnvironmentLimits(self):\n",
    "        \"\"\" Return limits of Environment\"\"\"\n",
    "        return list(self.limits)\n",
    "\n",
    "    def pointInCollision(self, pos):\n",
    "        \"\"\" Return whether a configuration is\n",
    "        inCollision -> True\n",
    "        Free -> False \"\"\"\n",
    "        assert(len(pos)==self.getDim())\n",
    "        for key, value in self.scene.items():\n",
    "            if value.intersects(Point(pos[0],pos[1])):              \n",
    "                return True\n",
    "        return False\n",
    "\n",
    "    def lineInCollision(self, startPos, endPos):\n",
    "        \"\"\" Check whether a line from startPos to endPos is colliding\"\"\"\n",
    "        assert(len(startPos)==self.getDim())\n",
    "        assert(len(endPos)==self.getDim())\n",
    "       \n",
    "        for key, value in self.scene.items():\n",
    "            if value.intersects(LineString([(startPos[0],startPos[1]),(endPos[0],endPos[1])])):\n",
    "                return True\n",
    "        return False\n",
    "    \n",
    "    # Originalfunktion - unten folgt die korrigierte, ohne Descartes\n",
    "    #def drawObstacles(self, ax):\n",
    "    #    for key, value in self.scene.items():\n",
    "    #        patch = PolygonPatch(value, facecolor=\"red\", alpha=0.8, zorder=2, label=key)\n",
    "    #        ax.add_patch(patch)\n",
    "\n",
    "    def drawObstacles(self, ax):\n",
    "        for kex, value in self.scene.items():\n",
    "            x, y = value.exterior.xy\n",
    "            ax.fill(x, y, facecolor=\"red\", edgecolor=\"black\", alpha=0.8, zorder=2, label=key)"
   ]
  },
  {
   "cell_type": "markdown",
   "metadata": {},
   "source": [
    "Testing and using the collision checker\n",
    "------------------------------------------"
   ]
  },
  {
   "cell_type": "code",
   "execution_count": 93,
   "metadata": {},
   "outputs": [],
   "source": [
    "lineScene = dict()\n",
    "lineScene[\"point\"] = Point([10,5]).buffer(1.0).buffer(1.0)\n",
    "lineScene[\"ob2\"] = LineString([[1,2],[10,10]]).buffer(1.0)\n"
   ]
  },
  {
   "cell_type": "code",
   "execution_count": 94,
   "metadata": {},
   "outputs": [],
   "source": [
    "cc = CollisionChecker(lineScene)"
   ]
  },
  {
   "cell_type": "markdown",
   "metadata": {},
   "source": [
    "As the drawing function is now part of the collision checker, the figure and draw area has to be defined beforehand."
   ]
  },
  {
   "cell_type": "code",
   "execution_count": 95,
   "metadata": {
    "collapsed": false,
    "jupyter": {
     "outputs_hidden": false
    }
   },
   "outputs": [
    {
     "data": {
      "image/png": "[encoded data removed]",
      "text/plain": [
       "<Figure size 500x500 with 1 Axes>"
      ]
     },
     "metadata": {},
     "output_type": "display_data"
    }
   ],
   "source": [
    "fig = plt.figure(figsize=(5,5))\n",
    "ax = fig.add_subplot(1,1,1)\n",
    "limits = cc.getEnvironmentLimits()\n",
    "ax.set_xlim(limits[0])\n",
    "ax.set_ylim(limits[1])\n",
    "\n",
    "cc.drawObstacles(ax)"
   ]
  },
  {
   "cell_type": "code",
   "execution_count": 102,
   "metadata": {
    "collapsed": false,
    "jupyter": {
     "outputs_hidden": false
    }
   },
   "outputs": [
    {
     "name": "stdout",
     "output_type": "stream",
     "text": [
      "True\n",
      "False\n"
     ]
    }
   ],
   "source": [
    "print(cc.pointInCollision([10,10]))\n",
    "print(cc.pointInCollision([2,5]))"
   ]
  },
  {
   "cell_type": "code",
   "execution_count": 97,
   "metadata": {
    "collapsed": false,
    "jupyter": {
     "outputs_hidden": false
    }
   },
   "outputs": [
    {
     "name": "stdout",
     "output_type": "stream",
     "text": [
      "True\n",
      "False\n"
     ]
    }
   ],
   "source": [
    "print(cc.lineInCollision([5,0],[5,10]))\n",
    "print(cc.lineInCollision([5,0],[10,0]))"
   ]
  },
  {
   "cell_type": "code",
   "execution_count": null,
   "metadata": {},
   "outputs": [],
   "source": []
  },
  {
   "cell_type": "code",
   "execution_count": 98,
   "metadata": {},
   "outputs": [
    {
     "ename": "SyntaxError",
     "evalue": "invalid syntax (3750457847.py, line 1)",
     "output_type": "error",
     "traceback": [
      "\u001b[1;36m  Cell \u001b[1;32mIn[98], line 1\u001b[1;36m\u001b[0m\n\u001b[1;33m    <szenenName> = dict()\u001b[0m\n\u001b[1;37m    ^\u001b[0m\n\u001b[1;31mSyntaxError\u001b[0m\u001b[1;31m:\u001b[0m invalid syntax\n"
     ]
    }
   ],
   "source": [
    "<szenenName> = dict()\n",
    "<szenenName>[\"obs1\"] = Polygon([(0, 8), (11, 8),(11, 15), (0, 15)]).buffer(.5)\n",
    "<szenenName>[\"obs2\"] = Polygon([(13, 8), (24, 8),(24, 15), (13, 15)]).buffer(.5)\n",
    "description = \"Planer has to find a narrow passage with a significant extend.\"\n",
    "benchList.append(Benchmark(\"aName\", CollisionChecker(<szenenName>), [[4,21]], [[18,1]], description, 2))"
   ]
  },
  {
   "cell_type": "code",
   "execution_count": 26,
   "metadata": {},
   "outputs": [
    {
     "name": "stdout",
     "output_type": "stream",
     "text": [
      "aiobotocore @ file:///croot/aiobotocore_1701291493089/work\n",
      "aiohttp @ file:///croot/aiohttp_1707342283163/work\n",
      "aioitertools @ file:///tmp/build/80754af9/aioitertools_1607109665762/work\n",
      "aiosignal @ file:///tmp/build/80754af9/aiosignal_1637843061372/work\n",
      "alabaster @ file:///home/ktietz/src/ci/alabaster_1611921544520/work\n",
      "altair @ file:///croot/altair_1687526041770/work\n",
      "anaconda-anon-usage @ file:///croot/anaconda-anon-usage_1697038922993/work\n",
      "anaconda-catalogs @ file:///croot/anaconda-catalogs_1685727283692/work\n",
      "anaconda-client @ file:///croot/anaconda-client_1708640631824/work\n",
      "anaconda-cloud-auth @ file:///croot/anaconda-cloud-auth_1697462711326/work\n",
      "anaconda-navigator @ file:///croot/anaconda-navigator_1704813276856/work\n",
      "anaconda-project @ file:///work/ci_py311/anaconda-project_1676846728333/work\n",
      "anyio @ file:///croot/anyio_1706220167567/work\n",
      "appdirs==1.4.4\n",
      "archspec @ file:///croot/archspec_1697725767277/work\n",
      "argon2-cffi @ file:///opt/conda/conda-bld/argon2-cffi_1645000214183/work\n",
      "argon2-cffi-bindings @ file:///work/ci_py311/argon2-cffi-bindings_1676823553406/work\n",
      "arrow @ file:///work/ci_py311/arrow_1677696236099/work\n",
      "astroid @ file:///work/ci_py311/astroid_1676920975848/work\n",
      "astropy @ file:///croot/astropy_1697468907928/work\n",
      "asttokens @ file:///opt/conda/conda-bld/asttokens_1646925590279/work\n",
      "async-lru @ file:///croot/async-lru_1699554519285/work\n",
      "atomicwrites==1.4.0\n",
      "attrs @ file:///croot/attrs_1695717823297/work\n",
      "Automat @ file:///tmp/build/80754af9/automat_1600298431173/work\n",
      "autopep8 @ file:///opt/conda/conda-bld/autopep8_1650463822033/work\n",
      "Babel @ file:///work/ci_py311/babel_1676825020543/work\n",
      "backports.functools-lru-cache @ file:///tmp/build/80754af9/backports.functools_lru_cache_1618170165463/work\n",
      "backports.tempfile @ file:///home/linux1/recipes/ci/backports.tempfile_1610991236607/work\n",
      "backports.weakref==1.0.post1\n",
      "bcrypt @ file:///work/ci_py311/bcrypt_1676825144644/work\n",
      "beautifulsoup4 @ file:///croot/beautifulsoup4-split_1681493039619/work\n",
      "binaryornot @ file:///tmp/build/80754af9/binaryornot_1617751525010/work\n",
      "black @ file:///croot/black_1701096792414/work\n",
      "bleach @ file:///opt/conda/conda-bld/bleach_1641577558959/work\n",
      "blinker @ file:///croot/blinker_1696539051175/work\n",
      "bokeh @ file:///croot/bokeh_1706912149278/work\n",
      "boltons @ file:///work/ci_py311/boltons_1677685195580/work\n",
      "botocore @ file:///croot/botocore_1701286451219/work\n",
      "Bottleneck @ file:///croot/bottleneck_1707864210935/work\n",
      "Brotli @ file:///work/ci_py311/brotli-split_1676830125088/work\n",
      "cachetools @ file:///tmp/build/80754af9/cachetools_1619597386817/work\n",
      "certifi @ file:///home/conda/feedstock_root/build_artifacts/certifi_1725278078093/work/certifi\n",
      "cffi @ file:///croot/cffi_1700254295673/work\n",
      "chardet @ file:///work/ci_py311/chardet_1676830276092/work\n",
      "charset-normalizer @ file:///tmp/build/80754af9/charset-normalizer_1630003229654/work\n",
      "click @ file:///croot/click_1698129812380/work\n",
      "cloudpickle @ file:///croot/cloudpickle_1683040006038/work\n",
      "clyent==1.2.2\n",
      "colorama @ file:///work/ci_py311/colorama_1676827038675/work\n",
      "colorcet @ file:///work/ci_py311/colorcet_1676839173519/work\n",
      "comm @ file:///work/ci_py311/comm_1677709131612/work\n",
      "conda @ file:///home/conda/feedstock_root/build_artifacts/conda_1708705604379/work\n",
      "conda-build @ file:///croot/conda-build_1708025865815/work\n",
      "conda-content-trust @ file:///croot/conda-content-trust_1693490622020/work\n",
      "conda-libmamba-solver @ file:///croot/conda-libmamba-solver_1706733287605/work/src\n",
      "conda-pack @ file:///tmp/build/80754af9/conda-pack_1611163042455/work\n",
      "conda-package-handling @ file:///croot/conda-package-handling_1690999929514/work\n",
      "conda-repo-cli==1.0.75\n",
      "conda-token @ file:///Users/paulyim/miniconda3/envs/c3i/conda-bld/conda-token_1662660369760/work\n",
      "conda-verify==3.4.2\n",
      "conda_index @ file:///croot/conda-index_1706633791028/work\n",
      "conda_package_streaming @ file:///croot/conda-package-streaming_1690987966409/work\n",
      "constantly @ file:///croot/constantly_1703165600746/work\n",
      "contourpy @ file:///croot/contourpy_1700583582875/work\n",
      "cookiecutter @ file:///croot/cookiecutter_1700676941334/work\n",
      "cryptography @ file:///croot/cryptography_1707523700518/work\n",
      "cssselect @ file:///croot/cssselect_1707339882883/work\n",
      "cycler @ file:///tmp/build/80754af9/cycler_1637851556182/work\n",
      "cytoolz @ file:///croot/cytoolz_1701723583781/work\n",
      "dask @ file:///croot/dask-core_1701396095060/work\n",
      "datashader @ file:///croot/datashader_1699542882288/work\n",
      "debugpy @ file:///croot/debugpy_1690905042057/work\n",
      "decorator @ file:///opt/conda/conda-bld/decorator_1643638310831/work\n",
      "defusedxml @ file:///tmp/build/80754af9/defusedxml_1615228127516/work\n",
      "descartes==1.1.0\n",
      "diff-match-patch @ file:///Users/ktietz/demo/mc3/conda-bld/diff-match-patch_1630511840874/work\n",
      "dill @ file:///croot/dill_1692271232022/work\n",
      "distributed @ file:///croot/distributed_1701398021707/work\n",
      "distro @ file:///croot/distro_1701455004953/work\n",
      "docstring-to-markdown @ file:///work/ci_py311/docstring-to-markdown_1676851973684/work\n",
      "docutils @ file:///work/ci_py311/docutils_1676822773036/work\n",
      "entrypoints @ file:///work/ci_py311/entrypoints_1676823319002/work\n",
      "et-xmlfile==1.1.0\n",
      "executing @ file:///opt/conda/conda-bld/executing_1646925071911/work\n",
      "fastjsonschema @ file:///work/ci_py311_2/python-fastjsonschema_1679340124475/work\n",
      "filelock @ file:///croot/filelock_1700591183607/work\n",
      "flake8 @ file:///work/ci_py311/flake8_1677709235205/work\n",
      "Flask @ file:///croot/flask_1702980023242/work\n",
      "fonttools==4.25.0\n",
      "frozenlist @ file:///croot/frozenlist_1698702560391/work\n",
      "fsspec @ file:///croot/fsspec_1701286474621/work\n",
      "future @ file:///work/ci_py311_2/future_1679335928186/work\n",
      "gensim @ file:///work/ci_py311/gensim_1677033391129/work\n",
      "gitdb @ file:///tmp/build/80754af9/gitdb_1617117951232/work\n",
      "GitPython @ file:///croot/gitpython_1696936983078/work\n",
      "gmpy2 @ file:///work/ci_py311/gmpy2_1676839849213/work\n",
      "greenlet @ file:///croot/greenlet_1702059959679/work\n",
      "h11 @ file:///home/conda/feedstock_root/build_artifacts/h11_1664132893548/work\n",
      "h2 @ file:///home/conda/feedstock_root/build_artifacts/h2_1634280454336/work\n",
      "h5py @ file:///croot/h5py_1691589708553/work\n",
      "HeapDict @ file:///Users/ktietz/demo/mc3/conda-bld/heapdict_1630598515714/work\n",
      "holoviews @ file:///croot/holoviews_1707836454244/work\n",
      "hpack==4.0.0\n",
      "httpcore @ file:///home/conda/feedstock_root/build_artifacts/httpcore_1727820890233/work\n",
      "httpx @ file:///home/conda/feedstock_root/build_artifacts/httpx_1724778349782/work\n",
      "hvplot @ file:///croot/hvplot_1706712387811/work\n",
      "hyperframe @ file:///home/conda/feedstock_root/build_artifacts/hyperframe_1619110129307/work\n",
      "hyperlink @ file:///tmp/build/80754af9/hyperlink_1610130746837/work\n",
      "idna @ file:///work/ci_py311/idna_1676822698822/work\n",
      "imagecodecs @ file:///croot/imagecodecs_1695064943445/work\n",
      "imageio @ file:///croot/imageio_1707247282708/work\n",
      "imagesize @ file:///work/ci_py311/imagesize_1676830829500/work\n",
      "imbalanced-learn @ file:///croot/imbalanced-learn_1700648238098/work\n",
      "importlib-metadata @ file:///croot/importlib_metadata-suite_1704813515092/work\n",
      "importlib_resources @ file:///home/conda/feedstock_root/build_artifacts/importlib_resources_1725921340658/work\n",
      "incremental @ file:///croot/incremental_1708639938299/work\n",
      "inflection==0.5.1\n",
      "iniconfig @ file:///home/linux1/recipes/ci/iniconfig_1610983019677/work\n",
      "intake @ file:///work/ci_py311_2/intake_1679336472739/work\n",
      "intervaltree @ file:///Users/ktietz/demo/mc3/conda-bld/intervaltree_1630511889664/work\n",
      "ipykernel @ file:///croot/ipykernel_1705933831282/work\n",
      "ipython @ file:///croot/ipython_1704833016303/work\n",
      "ipython-genutils @ file:///tmp/build/80754af9/ipython_genutils_1606773439826/work\n",
      "ipywidgets @ file:///croot/ipywidgets_1701289330913/work\n",
      "isort @ file:///tmp/build/80754af9/isort_1628603791788/work\n",
      "itemadapter @ file:///tmp/build/80754af9/itemadapter_1626442940632/work\n",
      "itemloaders @ file:///croot/itemloaders_1708639918324/work\n",
      "itsdangerous @ file:///tmp/build/80754af9/itsdangerous_1621432558163/work\n",
      "jaraco.classes @ file:///tmp/build/80754af9/jaraco.classes_1620983179379/work\n",
      "jedi @ file:///work/ci_py311_2/jedi_1679336495545/work\n",
      "jeepney @ file:///tmp/build/80754af9/jeepney_1627537048313/work\n",
      "jellyfish @ file:///croot/jellyfish_1695193535278/work\n",
      "Jinja2 @ file:///croot/jinja2_1706733616596/work\n",
      "jmespath @ file:///croot/jmespath_1700144569655/work\n",
      "joblib @ file:///croot/joblib_1685113087166/work\n",
      "json5 @ file:///tmp/build/80754af9/json5_1624432770122/work\n",
      "jsonpatch @ file:///tmp/build/80754af9/jsonpatch_1615747632069/work\n",
      "jsonpointer==2.1\n",
      "jsonschema @ file:///croot/jsonschema_1699041609003/work\n",
      "jsonschema-specifications @ file:///croot/jsonschema-specifications_1699032386549/work\n",
      "jupyter @ file:///croot/jupyter_1707947101020/work\n",
      "jupyter-console @ file:///croot/jupyter_console_1679999630278/work\n",
      "jupyter-events @ file:///croot/jupyter_events_1699282461638/work\n",
      "jupyter-lsp @ file:///croot/jupyter-lsp-meta_1699978238815/work\n",
      "jupyter_client @ file:///croot/jupyter_client_1699455897726/work\n",
      "jupyter_core @ file:///croot/jupyter_core_1698937308754/work\n",
      "jupyter_server @ file:///croot/jupyter_server_1699466442171/work\n",
      "jupyter_server_terminals @ file:///croot/jupyter_server_terminals_1686870725608/work\n",
      "jupyterlab @ file:///home/conda/feedstock_root/build_artifacts/jupyterlab_1724745148804/work\n",
      "jupyterlab-pygments @ file:///tmp/build/80754af9/jupyterlab_pygments_1601490720602/work\n",
      "jupyterlab-widgets @ file:///croot/jupyterlab_widgets_1700168618520/work\n",
      "jupyterlab_server @ file:///home/conda/feedstock_root/build_artifacts/jupyterlab_server-split_1721163288448/work\n",
      "keyring @ file:///croot/keyring_1678999217139/work\n",
      "kiwisolver @ file:///work/ci_py311/kiwisolver_1676827230232/work\n",
      "lazy-object-proxy @ file:///work/ci_py311/lazy-object-proxy_1676827255418/work\n",
      "lazy_loader @ file:///croot/lazy_loader_1695850097191/work\n",
      "lckr_jupyterlab_variableinspector @ file:///croot/jupyterlab-variableinspector_1701096569343/work\n",
      "libarchive-c @ file:///tmp/build/80754af9/python-libarchive-c_1617780486945/work\n",
      "libmambapy @ file:///croot/mamba-split_1704219408234/work/libmambapy\n",
      "linkify-it-py @ file:///work/ci_py311/linkify-it-py_1676837069144/work\n",
      "llvmlite @ file:///croot/llvmlite_1706910704562/work\n",
      "lmdb @ file:///croot/python-lmdb_1682522346377/work\n",
      "locket @ file:///work/ci_py311/locket_1676827274546/work\n",
      "lxml @ file:///croot/lxml_1695058164555/work\n",
      "lz4 @ file:///croot/lz4_1686057876374/work\n",
      "Markdown @ file:///work/ci_py311/markdown_1676837083112/work\n",
      "markdown-it-py @ file:///croot/markdown-it-py_1684279902645/work\n",
      "MarkupSafe @ file:///croot/markupsafe_1704205993651/work\n",
      "matplotlib @ file:///croot/matplotlib-suite_1698692105134/work\n",
      "matplotlib-inline @ file:///work/ci_py311/matplotlib-inline_1676823841154/work\n",
      "mccabe @ file:///opt/conda/conda-bld/mccabe_1644221741721/work\n",
      "mdit-py-plugins @ file:///work/ci_py311/mdit-py-plugins_1676837111662/work\n",
      "mdurl @ file:///work/ci_py311/mdurl_1676827289376/work\n",
      "menuinst @ file:///croot/menuinst_1706732933928/work\n",
      "mistune @ file:///work/ci_py311/mistune_1676823683049/work\n",
      "mkl-fft @ file:///croot/mkl_fft_1695058164594/work\n",
      "mkl-random @ file:///croot/mkl_random_1695059800811/work\n",
      "mkl-service==2.4.0\n",
      "more-itertools @ file:///croot/more-itertools_1700662129964/work\n",
      "mpmath @ file:///croot/mpmath_1690848262763/work\n",
      "msgpack @ file:///work/ci_py311/msgpack-python_1676823037805/work\n",
      "multidict @ file:///croot/multidict_1701096859099/work\n",
      "multipledispatch @ file:///work/ci_py311/multipledispatch_1676841220684/work\n",
      "munkres==1.1.4\n",
      "mypy @ file:///croot/mypy-split_1708366513367/work\n",
      "mypy-extensions @ file:///croot/mypy_extensions_1695130926492/work\n",
      "navigator-updater @ file:///croot/navigator-updater_1695210188412/work\n",
      "nbclient @ file:///croot/nbclient_1698934205032/work\n",
      "nbconvert @ file:///croot/nbconvert_1699022732553/work\n",
      "nbformat @ file:///croot/nbformat_1694616755618/work\n",
      "nest-asyncio @ file:///croot/nest-asyncio_1708532673751/work\n",
      "networkx @ file:///croot/networkx_1690561992265/work\n",
      "nltk @ file:///croot/nltk_1688114146592/work\n",
      "notebook @ file:///home/conda/feedstock_root/build_artifacts/notebook_1724861303656/work\n",
      "notebook_shim @ file:///croot/notebook-shim_1699455894279/work\n",
      "numba @ file:///home/conda/feedstock_root/build_artifacts/numba_1711475169058/work\n",
      "numexpr @ file:///croot/numexpr_1696515281613/work\n",
      "numpy @ file:///croot/numpy_and_numpy_base_1708638617955/work/dist/numpy-1.26.4-cp311-cp311-linux_x86_64.whl#sha256=5f96f274d410a1682519282ae769c877d32fdbf171aa8badec7bf5e1d3a1748a\n",
      "numpydoc @ file:///work/ci_py311/numpydoc_1676845056742/work\n",
      "openpyxl==3.0.10\n",
      "overrides @ file:///croot/overrides_1699371140756/work\n",
      "packaging @ file:///croot/packaging_1693575174725/work\n",
      "pandas @ file:///croot/pandas_1702317985682/work/dist/pandas-2.1.4-cp311-cp311-linux_x86_64.whl#sha256=a15c481f210e34ff91dac4944a5f8f0fe38ff2c3afa7c45ea621ff460d6f9b57\n",
      "pandocfilters @ file:///opt/conda/conda-bld/pandocfilters_1643405455980/work\n",
      "panel @ file:///croot/panel_1706539561184/work\n",
      "param @ file:///croot/param_1705937765746/work\n",
      "parsel @ file:///croot/parsel_1707503445438/work\n",
      "parso @ file:///opt/conda/conda-bld/parso_1641458642106/work\n",
      "partd @ file:///croot/partd_1698702562572/work\n",
      "pathlib @ file:///Users/ktietz/demo/mc3/conda-bld/pathlib_1629713961906/work\n",
      "pathspec @ file:///work/ci_py311_2/pathspec_1679337288229/work\n",
      "patsy==0.5.3\n",
      "pexpect @ file:///tmp/build/80754af9/pexpect_1605563209008/work\n",
      "pickleshare @ file:///tmp/build/80754af9/pickleshare_1606932040724/work\n",
      "pillow @ file:///croot/pillow_1707233021655/work\n",
      "pkce @ file:///croot/pkce_1690384816590/work\n",
      "pkginfo @ file:///croot/pkginfo_1679431160147/work\n",
      "platformdirs @ file:///croot/platformdirs_1692205439124/work\n",
      "plotly @ file:///work/ci_py311/plotly_1676841625489/work\n",
      "pluggy @ file:///work/ci_py311/pluggy_1676822818071/work\n",
      "ply==3.11\n",
      "prometheus-client @ file:///work/ci_py311_2/prometheus_client_1679340520168/work\n",
      "prompt-toolkit @ file:///croot/prompt-toolkit_1704404351921/work\n",
      "Protego @ file:///tmp/build/80754af9/protego_1598657180827/work\n",
      "protobuf==3.20.3\n",
      "psutil @ file:///work/ci_py311_2/psutil_1679337388738/work\n",
      "ptyprocess @ file:///tmp/build/80754af9/ptyprocess_1609355006118/work/dist/ptyprocess-0.7.0-py2.py3-none-any.whl\n",
      "pure-eval @ file:///opt/conda/conda-bld/pure_eval_1646925070566/work\n",
      "py-cpuinfo @ file:///croot/py-cpuinfo_1698068081650/work\n",
      "pyarrow @ file:///croot/pyarrow_1707330824290/work/python\n",
      "pyasn1 @ file:///Users/ktietz/demo/mc3/conda-bld/pyasn1_1629708007385/work\n",
      "pyasn1-modules==0.2.8\n",
      "pycodestyle @ file:///work/ci_py311/pycodestyle_1677708783451/work\n",
      "pycosat @ file:///croot/pycosat_1696536503704/work\n",
      "pycparser @ file:///tmp/build/80754af9/pycparser_1636541352034/work\n",
      "pyct @ file:///work/ci_py311/pyct_1676838544646/work\n",
      "pycurl @ file:///croot/pycurl_1686662440405/work\n",
      "pydantic @ file:///croot/pydantic_1695798841041/work\n",
      "pydeck @ file:///croot/pydeck_1706194064552/work\n",
      "PyDispatcher==2.0.5\n",
      "pydocstyle @ file:///work/ci_py311/pydocstyle_1677708708066/work\n",
      "pyerfa @ file:///work/ci_py311/pyerfa_1676838574038/work\n",
      "pyflakes @ file:///work/ci_py311/pyflakes_1677708650266/work\n",
      "Pygments @ file:///croot/pygments_1684279966437/work\n",
      "PyJWT @ file:///work/ci_py311/pyjwt_1676827385359/work\n",
      "pylint @ file:///work/ci_py311/pylint_1676920998643/work\n",
      "pylint-venv @ file:///work/ci_py311/pylint-venv_1677706395472/work\n",
      "pyls-spyder==0.4.0\n",
      "pyodbc @ file:///croot/pyodbc_1705431351638/work\n",
      "pyOpenSSL @ file:///croot/pyopenssl_1708380408460/work\n",
      "pyparsing @ file:///work/ci_py311/pyparsing_1677811559502/work\n",
      "PyQt5==5.15.10\n",
      "PyQt5-sip @ file:///croot/pyqt-split_1698769088074/work/pyqt_sip\n",
      "PyQtWebEngine==5.15.6\n",
      "PySocks @ file:///work/ci_py311/pysocks_1676822712504/work\n",
      "pytest @ file:///croot/pytest_1690474690005/work\n",
      "python-dateutil @ file:///tmp/build/80754af9/python-dateutil_1626374649649/work\n",
      "python-dotenv @ file:///work/ci_py311/python-dotenv_1676842320650/work\n",
      "python-json-logger @ file:///croot/python-json-logger_1683823803357/work\n",
      "python-lsp-black @ file:///work/ci_py311/python-lsp-black_1676845562358/work\n",
      "python-lsp-jsonrpc==1.0.0\n",
      "python-lsp-server @ file:///croot/python-lsp-server_1681930392028/work\n",
      "python-slugify @ file:///tmp/build/80754af9/python-slugify_1620405669636/work\n",
      "python-snappy @ file:///work/ci_py311/python-snappy_1676842365339/work\n",
      "pytoolconfig @ file:///croot/pytoolconfig_1701728692402/work\n",
      "pytz @ file:///croot/pytz_1695131579487/work\n",
      "pyviz_comms @ file:///croot/pyviz_comms_1701728014828/work\n",
      "pywavelets @ file:///croot/pywavelets_1705049820073/work\n",
      "pyxdg @ file:///tmp/build/80754af9/pyxdg_1603822279816/work\n",
      "PyYAML @ file:///croot/pyyaml_1698096049011/work\n",
      "pyzmq @ file:///croot/pyzmq_1705605076900/work\n",
      "QDarkStyle @ file:///tmp/build/80754af9/qdarkstyle_1617386714626/work\n",
      "qstylizer @ file:///work/ci_py311/qstylizer_1677706154568/work/dist/qstylizer-0.2.2-py2.py3-none-any.whl\n",
      "QtAwesome @ file:///work/ci_py311/qtawesome_1677705159328/work\n",
      "qtconsole @ file:///croot/qtconsole_1681394213385/work\n",
      "QtPy @ file:///croot/qtpy_1700144840038/work\n",
      "queuelib @ file:///croot/queuelib_1696950067631/work\n",
      "referencing @ file:///croot/referencing_1699012038513/work\n",
      "regex @ file:///croot/regex_1696515298636/work\n",
      "requests @ file:///croot/requests_1707355572290/work\n",
      "requests-file @ file:///Users/ktietz/demo/mc3/conda-bld/requests-file_1629455781986/work\n",
      "requests-toolbelt @ file:///croot/requests-toolbelt_1690874004362/work\n",
      "rfc3339-validator @ file:///croot/rfc3339-validator_1683077044675/work\n",
      "rfc3986-validator @ file:///croot/rfc3986-validator_1683058983515/work\n",
      "rich @ file:///croot/rich_1684282154404/work\n",
      "rope @ file:///work/ci_py311/rope_1677708536193/work\n",
      "rpds-py @ file:///croot/rpds-py_1698945930462/work\n",
      "Rtree @ file:///work/ci_py311/rtree_1676845693189/work\n",
      "ruamel-yaml-conda @ file:///work/ci_py311/ruamel_yaml_1676845707897/work\n",
      "ruamel.yaml @ file:///work/ci_py311/ruamel.yaml_1676838772170/work\n",
      "s3fs @ file:///croot/s3fs_1701294169021/work\n",
      "scikit-image @ file:///croot/scikit-image_1707346116243/work\n",
      "scikit-learn @ file:///croot/scikit-learn_1684954695550/work\n",
      "scipy @ file:///croot/scipy_1701295040508/work/dist/scipy-1.11.4-cp311-cp311-linux_x86_64.whl#sha256=4a1942ba48a330f141b1056df960d77f9be4cee3e2d999d754e791da201edffd\n",
      "Scrapy @ file:///work/ci_py311/scrapy_1677770267574/work\n",
      "seaborn @ file:///work/ci_py311/seaborn_1676845747354/work\n",
      "SecretStorage @ file:///work/ci_py311_2/secretstorage_1679339060489/work\n",
      "semver @ file:///tmp/build/80754af9/semver_1603822362442/work\n",
      "Send2Trash @ file:///croot/send2trash_1699371139552/work\n",
      "service-identity @ file:///Users/ktietz/demo/mc3/conda-bld/service_identity_1629460757137/work\n",
      "Shapely @ file:///home/conda/feedstock_root/build_artifacts/shapely_1668517935098/work\n",
      "sip @ file:///croot/sip_1698675935381/work\n",
      "six @ file:///tmp/build/80754af9/six_1644875935023/work\n",
      "smart-open @ file:///work/ci_py311/smart_open_1676842848397/work\n",
      "smmap @ file:///tmp/build/80754af9/smmap_1611694433573/work\n",
      "sniffio @ file:///croot/sniffio_1705431295498/work\n",
      "snowballstemmer @ file:///tmp/build/80754af9/snowballstemmer_1637937080595/work\n",
      "sortedcontainers @ file:///tmp/build/80754af9/sortedcontainers_1623949099177/work\n",
      "soupsieve @ file:///croot/soupsieve_1696347547217/work\n",
      "Sphinx @ file:///work/ci_py311/sphinx_1676842864059/work\n",
      "sphinxcontrib-applehelp @ file:///home/ktietz/src/ci/sphinxcontrib-applehelp_1611920841464/work\n",
      "sphinxcontrib-devhelp @ file:///home/ktietz/src/ci/sphinxcontrib-devhelp_1611920923094/work\n",
      "sphinxcontrib-htmlhelp @ file:///tmp/build/80754af9/sphinxcontrib-htmlhelp_1623945626792/work\n",
      "sphinxcontrib-jsmath @ file:///home/ktietz/src/ci/sphinxcontrib-jsmath_1611920942228/work\n",
      "sphinxcontrib-qthelp @ file:///home/ktietz/src/ci/sphinxcontrib-qthelp_1611921055322/work\n",
      "sphinxcontrib-serializinghtml @ file:///tmp/build/80754af9/sphinxcontrib-serializinghtml_1624451540180/work\n",
      "spyder @ file:///croot/spyder_1681934064788/work\n",
      "spyder-kernels @ file:///croot/spyder-kernels_1691599531749/work\n",
      "SQLAlchemy @ file:///croot/sqlalchemy_1705089115293/work\n",
      "stack-data @ file:///opt/conda/conda-bld/stack_data_1646927590127/work\n",
      "statsmodels @ file:///croot/statsmodels_1689937266057/work\n",
      "streamlit @ file:///croot/streamlit_1706200479775/work\n",
      "sympy @ file:///croot/sympy_1701397643339/work\n",
      "tables @ file:///croot/pytables_1705614842881/work\n",
      "tabulate @ file:///croot/tabulate_1701354810597/work\n",
      "tblib @ file:///Users/ktietz/demo/mc3/conda-bld/tblib_1629402031467/work\n",
      "tenacity @ file:///croot/tenacity_1682972284834/work\n",
      "terminado @ file:///work/ci_py311/terminado_1677696151350/work\n",
      "text-unidecode @ file:///Users/ktietz/demo/mc3/conda-bld/text-unidecode_1629401354553/work\n",
      "textdistance @ file:///tmp/build/80754af9/textdistance_1612461398012/work\n",
      "threadpoolctl @ file:///Users/ktietz/demo/mc3/conda-bld/threadpoolctl_1629802263681/work\n",
      "three-merge @ file:///tmp/build/80754af9/three-merge_1607553261110/work\n",
      "tifffile @ file:///croot/tifffile_1695107451082/work\n",
      "tinycss2 @ file:///work/ci_py311/tinycss2_1676823757641/work\n",
      "tldextract @ file:///opt/conda/conda-bld/tldextract_1646638314385/work\n",
      "toml @ file:///tmp/build/80754af9/toml_1616166611790/work\n",
      "tomli @ file:///home/conda/feedstock_root/build_artifacts/tomli_1727974628237/work\n",
      "tomlkit @ file:///work/ci_py311/tomlkit_1676823218885/work\n",
      "toolz @ file:///work/ci_py311/toolz_1676827522705/work\n",
      "tornado @ file:///croot/tornado_1696936946304/work\n",
      "tqdm @ file:///croot/tqdm_1679561862951/work\n",
      "traitlets @ file:///work/ci_py311/traitlets_1676823305040/work\n",
      "truststore @ file:///croot/truststore_1695244293384/work\n",
      "Twisted @ file:///croot/twisted_1708702809815/work\n",
      "typing_extensions @ file:///croot/typing_extensions_1705599297034/work\n",
      "tzdata @ file:///croot/python-tzdata_1690578112552/work\n",
      "tzlocal @ file:///work/ci_py311/tzlocal_1676842973332/work\n",
      "uc-micro-py @ file:///work/ci_py311/uc-micro-py_1676828889155/work\n",
      "ujson @ file:///work/ci_py311/ujson_1676828903327/work\n",
      "Unidecode @ file:///tmp/build/80754af9/unidecode_1614712377438/work\n",
      "urllib3 @ file:///croot/urllib3_1707349237698/work\n",
      "validators @ file:///tmp/build/80754af9/validators_1612286467315/work\n",
      "w3lib @ file:///croot/w3lib_1708639924738/work\n",
      "watchdog @ file:///work/ci_py311/watchdog_1676846191736/work\n",
      "wcwidth @ file:///Users/ktietz/demo/mc3/conda-bld/wcwidth_1629357192024/work\n",
      "webencodings==0.5.1\n",
      "websocket-client @ file:///work/ci_py311/websocket-client_1676824890004/work\n",
      "Werkzeug @ file:///croot/werkzeug_1679489717957/work\n",
      "whatthepatch @ file:///work/ci_py311/whatthepatch_1677708379946/work\n",
      "widgetsnbextension @ file:///croot/widgetsnbextension_1701273613663/work\n",
      "wrapt @ file:///work/ci_py311/wrapt_1676827586170/work\n",
      "wurlitzer @ file:///work/ci_py311/wurlitzer_1676843053614/work\n",
      "xarray @ file:///croot/xarray_1689041471350/work\n",
      "xyzservices @ file:///work/ci_py311/xyzservices_1676828923127/work\n",
      "yapf @ file:///tmp/build/80754af9/yapf_1615749224965/work\n",
      "yarl @ file:///croot/yarl_1701105127787/work\n",
      "zict @ file:///croot/zict_1695832839030/work\n",
      "zipp @ file:///croot/zipp_1704206909481/work\n",
      "zope.interface @ file:///work/ci_py311/zope.interface_1676905896080/work\n",
      "zstandard @ file:///work/ci_py311_2/zstandard_1679339489613/work\n"
     ]
    }
   ],
   "source": [
    "!pip freeze"
   ]
  },
  {
   "cell_type": "code",
   "execution_count": 27,
   "metadata": {},
   "outputs": [
    {
     "name": "stdout",
     "output_type": "stream",
     "text": [
      "# packages in environment at /home/developer/anaconda3:\n",
      "#\n",
      "# Name                    Version                   Build  Channel\n",
      "_anaconda_depends         2024.02             py311_mkl_1  \n",
      "_libgcc_mutex             0.1                 conda_forge    conda-forge\n",
      "_openmp_mutex             4.5                       2_gnu    conda-forge\n",
      "abseil-cpp                20211102.0           hd4dd3e8_0  \n",
      "aiobotocore               2.7.0           py311h06a4308_0  \n",
      "aiohttp                   3.9.3           py311h5eee18b_0  \n",
      "aioitertools              0.7.1              pyhd3eb1b0_0  \n",
      "aiosignal                 1.2.0              pyhd3eb1b0_0  \n",
      "alabaster                 0.7.12             pyhd3eb1b0_0  \n",
      "altair                    5.0.1           py311h06a4308_0  \n",
      "anaconda-anon-usage       0.4.3           py311hfc0e8ea_100  \n",
      "anaconda-catalogs         0.2.0           py311h06a4308_0  \n",
      "anaconda-client           1.12.3          py311h06a4308_0  \n",
      "anaconda-cloud-auth       0.1.4           py311h06a4308_0  \n",
      "anaconda-navigator        2.5.2           py311h06a4308_0  \n",
      "anaconda-project          0.11.1          py311h06a4308_0  \n",
      "anyio                     4.2.0           py311h06a4308_0  \n",
      "aom                       3.6.0                h6a678d5_0  \n",
      "appdirs                   1.4.4              pyhd3eb1b0_0  \n",
      "archspec                  0.2.1              pyhd3eb1b0_0  \n",
      "argon2-cffi               21.3.0             pyhd3eb1b0_0  \n",
      "argon2-cffi-bindings      21.2.0          py311h5eee18b_0  \n",
      "arrow                     1.2.3           py311h06a4308_1  \n",
      "arrow-cpp                 14.0.2               h374c478_1  \n",
      "astroid                   2.14.2          py311h06a4308_0  \n",
      "astropy                   5.3.4           py311hf4808d0_0  \n",
      "asttokens                 2.0.5              pyhd3eb1b0_0  \n",
      "async-lru                 2.0.4           py311h06a4308_0  \n",
      "atomicwrites              1.4.0                      py_0  \n",
      "attrs                     23.1.0          py311h06a4308_0  \n",
      "automat                   20.2.0                     py_0  \n",
      "autopep8                  1.6.0              pyhd3eb1b0_1  \n",
      "aws-c-auth                0.6.19               h5eee18b_0  \n",
      "aws-c-cal                 0.5.20               hdbd6064_0  \n",
      "aws-c-common              0.8.5                h5eee18b_0  \n",
      "aws-c-compression         0.2.16               h5eee18b_0  \n",
      "aws-c-event-stream        0.2.15               h6a678d5_0  \n",
      "aws-c-http                0.6.25               h5eee18b_0  \n",
      "aws-c-io                  0.13.10              h5eee18b_0  \n",
      "aws-c-mqtt                0.7.13               h5eee18b_0  \n",
      "aws-c-s3                  0.1.51               hdbd6064_0  \n",
      "aws-c-sdkutils            0.1.6                h5eee18b_0  \n",
      "aws-checksums             0.1.13               h5eee18b_0  \n",
      "aws-crt-cpp               0.18.16              h6a678d5_0  \n",
      "aws-sdk-cpp               1.10.55              h721c034_0  \n",
      "babel                     2.11.0          py311h06a4308_0  \n",
      "backports                 1.1                pyhd3eb1b0_0  \n",
      "backports.functools_lru_cache 1.6.4              pyhd3eb1b0_0  \n",
      "backports.tempfile        1.0                pyhd3eb1b0_1  \n",
      "backports.weakref         1.0.post1                  py_1  \n",
      "bcrypt                    3.2.0           py311h5eee18b_1  \n",
      "beautifulsoup4            4.12.2          py311h06a4308_0  \n",
      "binaryornot               0.4.4              pyhd3eb1b0_1  \n",
      "black                     23.11.0         py311h06a4308_0  \n",
      "blas                      1.0                         mkl  \n",
      "bleach                    4.1.0              pyhd3eb1b0_0  \n",
      "blinker                   1.6.2           py311h06a4308_0  \n",
      "blosc                     1.21.3               h6a678d5_0  \n",
      "bokeh                     3.3.4           py311h92b7b1e_0  \n",
      "boltons                   23.0.0          py311h06a4308_0  \n",
      "boost-cpp                 1.82.0               hdb19cb5_2  \n",
      "botocore                  1.31.64         py311h06a4308_0  \n",
      "bottleneck                1.3.7           py311hf4808d0_0  \n",
      "brotli                    1.0.9                h5eee18b_7  \n",
      "brotli-bin                1.0.9                h5eee18b_7  \n",
      "brotli-python             1.0.9           py311h6a678d5_7  \n",
      "brunsli                   0.1                  h2531618_0  \n",
      "bzip2                     1.0.8                h7b6447c_0  \n",
      "c-ares                    1.19.1               h5eee18b_0  \n",
      "c-blosc2                  2.12.0               h80c7b02_0  \n",
      "ca-certificates           2024.8.30            hbcca054_0    conda-forge\n",
      "cachetools                4.2.2              pyhd3eb1b0_0  \n",
      "certifi                   2024.8.30          pyhd8ed1ab_0    conda-forge\n",
      "cffi                      1.16.0          py311h5eee18b_0  \n",
      "cfitsio                   3.470                h5893167_7  \n",
      "chardet                   4.0.0           py311h06a4308_1003  \n",
      "charls                    2.2.0                h2531618_0  \n",
      "charset-normalizer        2.0.4              pyhd3eb1b0_0  \n",
      "click                     8.1.7           py311h06a4308_0  \n",
      "cloudpickle               2.2.1           py311h06a4308_0  \n",
      "clyent                    1.2.2           py311h06a4308_1  \n",
      "colorama                  0.4.6           py311h06a4308_0  \n",
      "colorcet                  3.0.1           py311h06a4308_0  \n",
      "comm                      0.1.2           py311h06a4308_0  \n",
      "conda                     24.1.2          py311h38be061_0    conda-forge\n",
      "conda-build               24.1.2          py311h06a4308_0  \n",
      "conda-content-trust       0.2.0           py311h06a4308_0  \n",
      "conda-index               0.4.0              pyhd3eb1b0_0  \n",
      "conda-libmamba-solver     24.1.0             pyhd3eb1b0_0  \n",
      "conda-pack                0.6.0              pyhd3eb1b0_0  \n",
      "conda-package-handling    2.2.0           py311h06a4308_0  \n",
      "conda-package-streaming   0.9.0           py311h06a4308_0  \n",
      "conda-repo-cli            1.0.75          py311h06a4308_0  \n",
      "conda-token               0.4.0              pyhd3eb1b0_0  \n",
      "conda-verify              3.4.2                      py_1  \n",
      "constantly                23.10.4         py311h06a4308_0  \n",
      "contourpy                 1.2.0           py311hdb19cb5_0  \n",
      "cookiecutter              2.5.0           py311h06a4308_0  \n",
      "cryptography              42.0.2          py311hdda0065_0  \n",
      "cssselect                 1.2.0           py311h06a4308_0  \n",
      "curl                      8.5.0                hdbd6064_0  \n",
      "cycler                    0.11.0             pyhd3eb1b0_0  \n",
      "cyrus-sasl                2.1.28               h52b45da_1  \n",
      "cytoolz                   0.12.2          py311h5eee18b_0  \n",
      "dask                      2023.11.0       py311h06a4308_0  \n",
      "dask-core                 2023.11.0       py311h06a4308_0  \n",
      "datashader                0.16.0          py311h06a4308_0  \n",
      "dav1d                     1.2.1                h5eee18b_0  \n",
      "dbus                      1.13.18              hb2f20db_0  \n",
      "debugpy                   1.6.7           py311h6a678d5_0  \n",
      "decorator                 5.1.1              pyhd3eb1b0_0  \n",
      "defusedxml                0.7.1              pyhd3eb1b0_0  \n",
      "descartes                 1.1.0                      py_4    conda-forge\n",
      "diff-match-patch          20200713           pyhd3eb1b0_0  \n",
      "dill                      0.3.7           py311h06a4308_0  \n",
      "distributed               2023.11.0       py311h06a4308_0  \n",
      "distro                    1.8.0           py311h06a4308_0  \n",
      "docstring-to-markdown     0.11            py311h06a4308_0  \n",
      "docutils                  0.18.1          py311h06a4308_3  \n",
      "entrypoints               0.4             py311h06a4308_0  \n",
      "et_xmlfile                1.1.0           py311h06a4308_0  \n",
      "executing                 0.8.3              pyhd3eb1b0_0  \n",
      "expat                     2.5.0                h6a678d5_0  \n",
      "filelock                  3.13.1          py311h06a4308_0  \n",
      "flake8                    6.0.0           py311h06a4308_0  \n",
      "flask                     2.2.5           py311h06a4308_0  \n",
      "fmt                       9.1.0                hdb19cb5_0  \n",
      "fontconfig                2.14.1               h4c34cd2_2  \n",
      "fonttools                 4.25.0             pyhd3eb1b0_0  \n",
      "freetype                  2.12.1               h4a9f257_0  \n",
      "frozenlist                1.4.0           py311h5eee18b_0  \n",
      "fsspec                    2023.10.0       py311h06a4308_0  \n",
      "future                    0.18.3          py311h06a4308_0  \n",
      "gensim                    4.3.0           py311hba01205_1  \n",
      "geos                      3.11.1               h27087fc_0    conda-forge\n",
      "gflags                    2.2.2                h6a678d5_1  \n",
      "giflib                    5.2.1                h5eee18b_3  \n",
      "gitdb                     4.0.7              pyhd3eb1b0_0  \n",
      "gitpython                 3.1.37          py311h06a4308_0  \n",
      "glib                      2.78.4               h6a678d5_0  \n",
      "glib-tools                2.78.4               h6a678d5_0  \n",
      "glog                      0.5.0                h6a678d5_1  \n",
      "gmp                       6.2.1                h295c915_3  \n",
      "gmpy2                     2.1.2           py311hc9b5ff0_0  \n",
      "greenlet                  3.0.1           py311h6a678d5_0  \n",
      "grpc-cpp                  1.48.2               he1ff14a_1  \n",
      "gst-plugins-base          1.14.1               h6a678d5_1  \n",
      "gstreamer                 1.14.1               h5eee18b_1  \n",
      "h11                       0.14.0             pyhd8ed1ab_0    conda-forge\n",
      "h2                        4.1.0              pyhd8ed1ab_0    conda-forge\n",
      "h5py                      3.9.0           py311hdd6beaf_0  \n",
      "hdf5                      1.12.1               h2b7332f_3  \n",
      "heapdict                  1.0.1              pyhd3eb1b0_0  \n",
      "holoviews                 1.18.3          py311h06a4308_0  \n",
      "hpack                     4.0.0              pyh9f0ad1d_0    conda-forge\n",
      "httpcore                  1.0.6              pyhd8ed1ab_0    conda-forge\n",
      "httpx                     0.27.2             pyhd8ed1ab_0    conda-forge\n",
      "hvplot                    0.9.2           py311h06a4308_0  \n",
      "hyperframe                6.0.1              pyhd8ed1ab_0    conda-forge\n",
      "hyperlink                 21.0.0             pyhd3eb1b0_0  \n",
      "icu                       73.1                 h6a678d5_0  \n",
      "idna                      3.4             py311h06a4308_0  \n",
      "imagecodecs               2023.1.23       py311h8105a5c_0  \n",
      "imageio                   2.33.1          py311h06a4308_0  \n",
      "imagesize                 1.4.1           py311h06a4308_0  \n",
      "imbalanced-learn          0.11.0          py311h06a4308_1  \n",
      "importlib-metadata        7.0.1           py311h06a4308_0  \n",
      "importlib_metadata        7.0.1                hd3eb1b0_0  \n",
      "importlib_resources       6.4.5              pyhd8ed1ab_0    conda-forge\n",
      "incremental               22.10.0            pyhd3eb1b0_0  \n",
      "inflection                0.5.1           py311h06a4308_0  \n",
      "iniconfig                 1.1.1              pyhd3eb1b0_0  \n",
      "intake                    0.6.8           py311h06a4308_0  \n",
      "intel-openmp              2023.1.0         hdb19cb5_46306  \n",
      "intervaltree              3.1.0              pyhd3eb1b0_0  \n",
      "ipykernel                 6.28.0          py311h06a4308_0  \n",
      "ipython                   8.20.0          py311h06a4308_0  \n",
      "ipython_genutils          0.2.0              pyhd3eb1b0_1  \n",
      "ipywidgets                7.6.5              pyhd3eb1b0_2  \n",
      "isort                     5.9.3              pyhd3eb1b0_0  \n",
      "itemadapter               0.3.0              pyhd3eb1b0_0  \n",
      "itemloaders               1.1.0           py311h06a4308_0  \n",
      "itsdangerous              2.0.1              pyhd3eb1b0_0  \n",
      "jaraco.classes            3.2.1              pyhd3eb1b0_0  \n",
      "jedi                      0.18.1          py311h06a4308_1  \n",
      "jeepney                   0.7.1              pyhd3eb1b0_0  \n",
      "jellyfish                 1.0.1           py311hb02cf49_0  \n",
      "jinja2                    3.1.3           py311h06a4308_0  \n",
      "jmespath                  1.0.1           py311h06a4308_0  \n",
      "joblib                    1.2.0           py311h06a4308_0  \n",
      "jpeg                      9e                   h5eee18b_1  \n",
      "jq                        1.6               h27cfd23_1000  \n",
      "json5                     0.9.6              pyhd3eb1b0_0  \n",
      "jsonpatch                 1.32               pyhd3eb1b0_0  \n",
      "jsonpointer               2.1                pyhd3eb1b0_0  \n",
      "jsonschema                4.19.2          py311h06a4308_0  \n",
      "jsonschema-specifications 2023.7.1        py311h06a4308_0  \n",
      "jupyter                   1.0.0           py311h06a4308_9  \n",
      "jupyter-lsp               2.2.0           py311h06a4308_0  \n",
      "jupyter_client            8.6.0           py311h06a4308_0  \n",
      "jupyter_console           6.6.3           py311h06a4308_0  \n",
      "jupyter_core              5.5.0           py311h06a4308_0  \n",
      "jupyter_events            0.8.0           py311h06a4308_0  \n",
      "jupyter_server            2.10.0          py311h06a4308_0  \n",
      "jupyter_server_terminals  0.4.4           py311h06a4308_1  \n",
      "jupyterlab                4.2.5              pyhd8ed1ab_0    conda-forge\n",
      "jupyterlab-variableinspector 3.1.0           py311h06a4308_0  \n",
      "jupyterlab_pygments       0.1.2                      py_0  \n",
      "jupyterlab_server         2.27.3             pyhd8ed1ab_0    conda-forge\n",
      "jupyterlab_widgets        3.0.9           py311h06a4308_0  \n",
      "jxrlib                    1.1                  h7b6447c_2  \n",
      "keyring                   23.13.1         py311h06a4308_0  \n",
      "kiwisolver                1.4.4           py311h6a678d5_0  \n",
      "krb5                      1.20.1               h143b758_1  \n",
      "lazy-object-proxy         1.6.0           py311h5eee18b_0  \n",
      "lazy_loader               0.3             py311h06a4308_0  \n",
      "lcms2                     2.12                 h3be6417_0  \n",
      "ld_impl_linux-64          2.38                 h1181459_1  \n",
      "lerc                      3.0                  h295c915_0  \n",
      "libaec                    1.0.4                he6710b0_1  \n",
      "libarchive                3.6.2                h6ac8c49_2  \n",
      "libavif                   0.11.1               h5eee18b_0  \n",
      "libboost                  1.82.0               h109eef0_2  \n",
      "libbrotlicommon           1.0.9                h5eee18b_7  \n",
      "libbrotlidec              1.0.9                h5eee18b_7  \n",
      "libbrotlienc              1.0.9                h5eee18b_7  \n",
      "libclang                  14.0.6          default_hc6dbbc7_1  \n",
      "libclang13                14.0.6          default_he11475f_1  \n",
      "libcups                   2.4.2                h2d74bed_1  \n",
      "libcurl                   8.5.0                h251f7ec_0  \n",
      "libdeflate                1.17                 h5eee18b_1  \n",
      "libedit                   3.1.20230828         h5eee18b_0  \n",
      "libev                     4.33                 h7f8727e_1  \n",
      "libevent                  2.1.12               hdbd6064_1  \n",
      "libffi                    3.4.4                h6a678d5_0  \n",
      "libgcc                    14.1.0               h77fa898_1    conda-forge\n",
      "libgcc-ng                 14.1.0               h69a702a_1    conda-forge\n",
      "libgfortran-ng            11.2.0               h00389a5_1  \n",
      "libgfortran5              11.2.0               h1234567_1  \n",
      "libglib                   2.78.4               hdc74915_0  \n",
      "libgomp                   14.1.0               h77fa898_1    conda-forge\n",
      "libiconv                  1.16                 h7f8727e_2  \n",
      "liblief                   0.12.3               h6a678d5_0  \n",
      "libllvm14                 14.0.6               hdb19cb5_3  \n",
      "libmamba                  1.5.6                haf1ee3a_0  \n",
      "libmambapy                1.5.6           py311h2dafd23_0  \n",
      "libnghttp2                1.57.0               h2d74bed_0  \n",
      "libpng                    1.6.39               h5eee18b_0  \n",
      "libpq                     12.17                hdbd6064_0  \n",
      "libprotobuf               3.20.3               he621ea3_0  \n",
      "libsodium                 1.0.18               h7b6447c_0  \n",
      "libsolv                   0.7.24               he621ea3_0  \n",
      "libspatialindex           1.9.3                h2531618_0  \n",
      "libssh2                   1.10.0               hdbd6064_2  \n",
      "libstdcxx                 14.1.0               hc0a3c3a_1    conda-forge\n",
      "libstdcxx-ng              14.1.0               h4852527_1    conda-forge\n",
      "libthrift                 0.15.0               h1795dd8_2  \n",
      "libtiff                   4.5.1                h6a678d5_0  \n",
      "libuuid                   1.41.5               h5eee18b_0  \n",
      "libwebp-base              1.3.2                h5eee18b_0  \n",
      "libxcb                    1.15                 h7f8727e_0  \n",
      "libxkbcommon              1.0.1                h5eee18b_1  \n",
      "libxml2                   2.10.4               hf1b16e4_1  \n",
      "libxslt                   1.1.37               h5eee18b_1  \n",
      "libzopfli                 1.0.3                he6710b0_0  \n",
      "linkify-it-py             2.0.0           py311h06a4308_0  \n",
      "llvmlite                  0.42.0          py311h6a678d5_0  \n",
      "locket                    1.0.0           py311h06a4308_0  \n",
      "lxml                      4.9.3           py311hdbbb534_0  \n",
      "lz4                       4.3.2           py311h5eee18b_0  \n",
      "lz4-c                     1.9.4                h6a678d5_0  \n",
      "lzo                       2.10                 h7b6447c_2  \n",
      "markdown                  3.4.1           py311h06a4308_0  \n",
      "markdown-it-py            2.2.0           py311h06a4308_1  \n",
      "markupsafe                2.1.3           py311h5eee18b_0  \n",
      "matplotlib                3.8.0           py311h06a4308_0  \n",
      "matplotlib-base           3.8.0           py311ha02d727_0  \n",
      "matplotlib-inline         0.1.6           py311h06a4308_0  \n",
      "mccabe                    0.7.0              pyhd3eb1b0_0  \n",
      "mdit-py-plugins           0.3.0           py311h06a4308_0  \n",
      "mdurl                     0.1.0           py311h06a4308_0  \n",
      "menuinst                  2.0.2           py311h06a4308_0  \n",
      "mistune                   2.0.4           py311h06a4308_0  \n",
      "mkl                       2023.1.0         h213fc3f_46344  \n",
      "mkl-service               2.4.0           py311h5eee18b_1  \n",
      "mkl_fft                   1.3.8           py311h5eee18b_0  \n",
      "mkl_random                1.2.4           py311hdb19cb5_0  \n",
      "more-itertools            10.1.0          py311h06a4308_0  \n",
      "mpc                       1.1.0                h10f8cd9_1  \n",
      "mpfr                      4.0.2                hb69a4c5_1  \n",
      "mpmath                    1.3.0           py311h06a4308_0  \n",
      "msgpack-python            1.0.3           py311hdb19cb5_0  \n",
      "multidict                 6.0.4           py311h5eee18b_0  \n",
      "multipledispatch          0.6.0           py311h06a4308_0  \n",
      "munkres                   1.1.4                      py_0  \n",
      "mypy                      1.8.0           py311h5eee18b_0  \n",
      "mypy_extensions           1.0.0           py311h06a4308_0  \n",
      "mysql                     5.7.24               h721c034_2  \n",
      "navigator-updater         0.4.0           py311h06a4308_1  \n",
      "nbclient                  0.8.0           py311h06a4308_0  \n",
      "nbconvert                 7.10.0          py311h06a4308_0  \n",
      "nbformat                  5.9.2           py311h06a4308_0  \n",
      "ncurses                   6.4                  h6a678d5_0  \n",
      "nest-asyncio              1.6.0           py311h06a4308_0  \n",
      "networkx                  3.1             py311h06a4308_0  \n",
      "nltk                      3.8.1           py311h06a4308_0  \n",
      "notebook                  7.2.2              pyhd8ed1ab_0    conda-forge\n",
      "notebook-shim             0.2.3           py311h06a4308_0  \n",
      "nspr                      4.35                 h6a678d5_0  \n",
      "nss                       3.89.1               h6a678d5_0  \n",
      "numba                     0.59.1          py311h96b013e_0    conda-forge\n",
      "numexpr                   2.8.7           py311h65dcdc2_0  \n",
      "numpy                     1.26.4          py311h08b1b3b_0  \n",
      "numpy-base                1.26.4          py311hf175353_0  \n",
      "numpydoc                  1.5.0           py311h06a4308_0  \n",
      "oniguruma                 6.9.7.1              h27cfd23_0  \n",
      "openjpeg                  2.4.0                h3ad879b_0  \n",
      "openpyxl                  3.0.10          py311h5eee18b_0  \n",
      "openssl                   3.3.2                hb9d3cd8_0    conda-forge\n",
      "orc                       1.7.4                hb3bc3d3_1  \n",
      "overrides                 7.4.0           py311h06a4308_0  \n",
      "packaging                 23.1            py311h06a4308_0  \n",
      "pandas                    2.1.4           py311ha02d727_0  \n",
      "pandocfilters             1.5.0              pyhd3eb1b0_0  \n",
      "panel                     1.3.8           py311h06a4308_0  \n",
      "param                     2.0.2           py311h06a4308_0  \n",
      "parsel                    1.8.1           py311h06a4308_0  \n",
      "parso                     0.8.3              pyhd3eb1b0_0  \n",
      "partd                     1.4.1           py311h06a4308_0  \n",
      "patch                     2.7.6             h7b6447c_1001  \n",
      "patchelf                  0.17.2               h6a678d5_0  \n",
      "pathlib                   1.0.1              pyhd3eb1b0_1  \n",
      "pathspec                  0.10.3          py311h06a4308_0  \n",
      "patsy                     0.5.3           py311h06a4308_0  \n",
      "pcre2                     10.42                hebb0a14_0  \n",
      "pexpect                   4.8.0              pyhd3eb1b0_3  \n",
      "pickleshare               0.7.5           pyhd3eb1b0_1003  \n",
      "pillow                    10.2.0          py311h5eee18b_0  \n",
      "pip                       23.3.1          py311h06a4308_0  \n",
      "pkce                      1.0.3           py311h06a4308_0  \n",
      "pkginfo                   1.9.6           py311h06a4308_0  \n",
      "platformdirs              3.10.0          py311h06a4308_0  \n",
      "plotly                    5.9.0           py311h06a4308_0  \n",
      "pluggy                    1.0.0           py311h06a4308_1  \n",
      "ply                       3.11            py311h06a4308_0  \n",
      "prometheus_client         0.14.1          py311h06a4308_0  \n",
      "prompt-toolkit            3.0.43          py311h06a4308_0  \n",
      "prompt_toolkit            3.0.43               hd3eb1b0_0  \n",
      "protego                   0.1.16                     py_0  \n",
      "protobuf                  3.20.3          py311h6a678d5_0  \n",
      "psutil                    5.9.0           py311h5eee18b_0  \n",
      "ptyprocess                0.7.0              pyhd3eb1b0_2  \n",
      "pure_eval                 0.2.2              pyhd3eb1b0_0  \n",
      "py-cpuinfo                9.0.0           py311h06a4308_0  \n",
      "py-lief                   0.12.3          py311h6a678d5_0  \n",
      "pyarrow                   14.0.2          py311hb6e97c4_0  \n",
      "pyasn1                    0.4.8              pyhd3eb1b0_0  \n",
      "pyasn1-modules            0.2.8                      py_0  \n",
      "pybind11-abi              4                    hd3eb1b0_1  \n",
      "pycodestyle               2.10.0          py311h06a4308_0  \n",
      "pycosat                   0.6.6           py311h5eee18b_0  \n",
      "pycparser                 2.21               pyhd3eb1b0_0  \n",
      "pyct                      0.5.0           py311h06a4308_0  \n",
      "pycurl                    7.45.2          py311hdbd6064_1  \n",
      "pydantic                  1.10.12         py311h5eee18b_1  \n",
      "pydeck                    0.8.0           py311h06a4308_2  \n",
      "pydispatcher              2.0.5           py311h06a4308_2  \n",
      "pydocstyle                6.3.0           py311h06a4308_0  \n",
      "pyerfa                    2.0.0           py311h5eee18b_0  \n",
      "pyflakes                  3.0.1           py311h06a4308_0  \n",
      "pygments                  2.15.1          py311h06a4308_1  \n",
      "pyjwt                     2.4.0           py311h06a4308_0  \n",
      "pylint                    2.16.2          py311h06a4308_0  \n",
      "pylint-venv               2.3.0           py311h06a4308_0  \n",
      "pyls-spyder               0.4.0              pyhd3eb1b0_0  \n",
      "pyodbc                    5.0.1           py311h6a678d5_0  \n",
      "pyopenssl                 24.0.0          py311h06a4308_0  \n",
      "pyparsing                 3.0.9           py311h06a4308_0  \n",
      "pyqt                      5.15.10         py311h6a678d5_0  \n",
      "pyqt5-sip                 12.13.0         py311h5eee18b_0  \n",
      "pyqtwebengine             5.15.10         py311h6a678d5_0  \n",
      "pysocks                   1.7.1           py311h06a4308_0  \n",
      "pytables                  3.9.2           py311h9d13977_0  \n",
      "pytest                    7.4.0           py311h06a4308_0  \n",
      "python                    3.11.7               h955ad1f_0  \n",
      "python-dateutil           2.8.2              pyhd3eb1b0_0  \n",
      "python-dotenv             0.21.0          py311h06a4308_0  \n",
      "python-fastjsonschema     2.16.2          py311h06a4308_0  \n",
      "python-json-logger        2.0.7           py311h06a4308_0  \n",
      "python-libarchive-c       2.9                pyhd3eb1b0_1  \n",
      "python-lmdb               1.4.1           py311h6a678d5_0  \n",
      "python-lsp-black          1.2.1           py311h06a4308_0  \n",
      "python-lsp-jsonrpc        1.0.0              pyhd3eb1b0_0  \n",
      "python-lsp-server         1.7.2           py311h06a4308_0  \n",
      "python-slugify            5.0.2              pyhd3eb1b0_0  \n",
      "python-snappy             0.6.1           py311h6a678d5_0  \n",
      "python-tzdata             2023.3             pyhd3eb1b0_0  \n",
      "python_abi                3.11                    2_cp311    conda-forge\n",
      "pytoolconfig              1.2.6           py311h06a4308_0  \n",
      "pytz                      2023.3.post1    py311h06a4308_0  \n",
      "pyviz_comms               3.0.0           py311h06a4308_0  \n",
      "pywavelets                1.5.0           py311hf4808d0_0  \n",
      "pyxdg                     0.27               pyhd3eb1b0_0  \n",
      "pyyaml                    6.0.1           py311h5eee18b_0  \n",
      "pyzmq                     25.1.2          py311h6a678d5_0  \n",
      "qdarkstyle                3.0.2              pyhd3eb1b0_0  \n",
      "qstylizer                 0.2.2           py311h06a4308_0  \n",
      "qt-main                   5.15.2              h53bd1ea_10  \n",
      "qt-webengine              5.15.9               h9ab4d14_7  \n",
      "qtawesome                 1.2.2           py311h06a4308_0  \n",
      "qtconsole                 5.4.2           py311h06a4308_0  \n",
      "qtpy                      2.4.1           py311h06a4308_0  \n",
      "queuelib                  1.6.2           py311h06a4308_0  \n",
      "re2                       2022.04.01           h295c915_0  \n",
      "readline                  8.2                  h5eee18b_0  \n",
      "referencing               0.30.2          py311h06a4308_0  \n",
      "regex                     2023.10.3       py311h5eee18b_0  \n",
      "reproc                    14.2.4               h295c915_1  \n",
      "reproc-cpp                14.2.4               h295c915_1  \n",
      "requests                  2.31.0          py311h06a4308_1  \n",
      "requests-file             1.5.1              pyhd3eb1b0_0  \n",
      "requests-toolbelt         1.0.0           py311h06a4308_0  \n",
      "rfc3339-validator         0.1.4           py311h06a4308_0  \n",
      "rfc3986-validator         0.1.1           py311h06a4308_0  \n",
      "rich                      13.3.5          py311h06a4308_0  \n",
      "rope                      1.7.0           py311h06a4308_0  \n",
      "rpds-py                   0.10.6          py311hb02cf49_0  \n",
      "rtree                     1.0.1           py311h06a4308_0  \n",
      "ruamel.yaml               0.17.21         py311h5eee18b_0  \n",
      "ruamel_yaml               0.17.21         py311h5eee18b_0  \n",
      "s2n                       1.3.27               hdbd6064_0  \n",
      "s3fs                      2023.10.0       py311h06a4308_0  \n",
      "scikit-image              0.22.0          py311ha02d727_0  \n",
      "scikit-learn              1.2.2           py311h6a678d5_1  \n",
      "scipy                     1.11.4          py311h08b1b3b_0  \n",
      "scrapy                    2.8.0           py311h06a4308_0  \n",
      "seaborn                   0.12.2          py311h06a4308_0  \n",
      "secretstorage             3.3.1           py311h06a4308_1  \n",
      "semver                    2.13.0             pyhd3eb1b0_0  \n",
      "send2trash                1.8.2           py311h06a4308_0  \n",
      "service_identity          18.1.0             pyhd3eb1b0_1  \n",
      "setuptools                68.2.2          py311h06a4308_0  \n",
      "shapely                   1.8.5           py311h2b60523_2    conda-forge\n",
      "sip                       6.7.12          py311h6a678d5_0  \n",
      "six                       1.16.0             pyhd3eb1b0_1  \n",
      "smart_open                5.2.1           py311h06a4308_0  \n",
      "smmap                     4.0.0              pyhd3eb1b0_0  \n",
      "snappy                    1.1.10               h6a678d5_1  \n",
      "sniffio                   1.3.0           py311h06a4308_0  \n",
      "snowballstemmer           2.2.0              pyhd3eb1b0_0  \n",
      "sortedcontainers          2.4.0              pyhd3eb1b0_0  \n",
      "soupsieve                 2.5             py311h06a4308_0  \n",
      "sphinx                    5.0.2           py311h06a4308_0  \n",
      "sphinxcontrib-applehelp   1.0.2              pyhd3eb1b0_0  \n",
      "sphinxcontrib-devhelp     1.0.2              pyhd3eb1b0_0  \n",
      "sphinxcontrib-htmlhelp    2.0.0              pyhd3eb1b0_0  \n",
      "sphinxcontrib-jsmath      1.0.1              pyhd3eb1b0_0  \n",
      "sphinxcontrib-qthelp      1.0.3              pyhd3eb1b0_0  \n",
      "sphinxcontrib-serializinghtml 1.1.5              pyhd3eb1b0_0  \n",
      "spyder                    5.4.3           py311h06a4308_1  \n",
      "spyder-kernels            2.4.4           py311h06a4308_0  \n",
      "sqlalchemy                2.0.25          py311h5eee18b_0  \n",
      "sqlite                    3.41.2               h5eee18b_0  \n",
      "stack_data                0.2.0              pyhd3eb1b0_0  \n",
      "statsmodels               0.14.0          py311hf4808d0_0  \n",
      "streamlit                 1.30.0          py311h06a4308_0  \n",
      "sympy                     1.12            py311h06a4308_0  \n",
      "tabulate                  0.9.0           py311h06a4308_0  \n",
      "tbb                       2021.8.0             hdb19cb5_0  \n",
      "tblib                     1.7.0              pyhd3eb1b0_0  \n",
      "tenacity                  8.2.2           py311h06a4308_0  \n",
      "terminado                 0.17.1          py311h06a4308_0  \n",
      "text-unidecode            1.3                pyhd3eb1b0_0  \n",
      "textdistance              4.2.1              pyhd3eb1b0_0  \n",
      "threadpoolctl             2.2.0              pyh0d69192_0  \n",
      "three-merge               0.1.1              pyhd3eb1b0_0  \n",
      "tifffile                  2023.4.12       py311h06a4308_0  \n",
      "tinycss2                  1.2.1           py311h06a4308_0  \n",
      "tk                        8.6.12               h1ccaba5_0  \n",
      "tldextract                3.2.0              pyhd3eb1b0_0  \n",
      "toml                      0.10.2             pyhd3eb1b0_0  \n",
      "tomli                     2.0.2              pyhd8ed1ab_0    conda-forge\n",
      "tomlkit                   0.11.1          py311h06a4308_0  \n",
      "toolz                     0.12.0          py311h06a4308_0  \n",
      "tornado                   6.3.3           py311h5eee18b_0  \n",
      "tqdm                      4.65.0          py311h92b7b1e_0  \n",
      "traitlets                 5.7.1           py311h06a4308_0  \n",
      "truststore                0.8.0           py311h06a4308_0  \n",
      "twisted                   23.10.0         py311h06a4308_0  \n",
      "typing-extensions         4.9.0           py311h06a4308_1  \n",
      "typing_extensions         4.9.0           py311h06a4308_1  \n",
      "tzdata                    2023d                h04d1e81_0  \n",
      "tzlocal                   2.1             py311h06a4308_1  \n",
      "uc-micro-py               1.0.1           py311h06a4308_0  \n",
      "ujson                     5.4.0           py311h6a678d5_0  \n",
      "unidecode                 1.2.0              pyhd3eb1b0_0  \n",
      "unixodbc                  2.3.11               h5eee18b_0  \n",
      "urllib3                   2.0.7           py311h06a4308_0  \n",
      "utf8proc                  2.6.1                h5eee18b_1  \n",
      "validators                0.18.2             pyhd3eb1b0_0  \n",
      "w3lib                     2.1.2           py311h06a4308_0  \n",
      "watchdog                  2.1.6           py311h06a4308_0  \n",
      "wcwidth                   0.2.5              pyhd3eb1b0_0  \n",
      "webencodings              0.5.1           py311h06a4308_1  \n",
      "websocket-client          0.58.0          py311h06a4308_4  \n",
      "werkzeug                  2.2.3           py311h06a4308_0  \n",
      "whatthepatch              1.0.2           py311h06a4308_0  \n",
      "wheel                     0.41.2          py311h06a4308_0  \n",
      "widgetsnbextension        3.5.2           py311h06a4308_1  \n",
      "wrapt                     1.14.1          py311h5eee18b_0  \n",
      "wurlitzer                 3.0.2           py311h06a4308_0  \n",
      "xarray                    2023.6.0        py311h06a4308_0  \n",
      "xyzservices               2022.9.0        py311h06a4308_1  \n",
      "xz                        5.4.5                h5eee18b_0  \n",
      "yaml                      0.2.5                h7b6447c_0  \n",
      "yaml-cpp                  0.8.0                h6a678d5_0  \n",
      "yapf                      0.31.0             pyhd3eb1b0_0  \n",
      "yarl                      1.9.3           py311h5eee18b_0  \n",
      "zeromq                    4.3.5                h6a678d5_0  \n",
      "zfp                       1.0.0                h6a678d5_0  \n",
      "zict                      3.0.0           py311h06a4308_0  \n",
      "zipp                      3.17.0          py311h06a4308_0  \n",
      "zlib                      1.2.13               h5eee18b_0  \n",
      "zlib-ng                   2.0.7                h5eee18b_0  \n",
      "zope                      1.0             py311h06a4308_1  \n",
      "zope.interface            5.4.0           py311h5eee18b_0  \n",
      "zstandard                 0.19.0          py311h5eee18b_0  \n",
      "zstd                      1.5.5                hc292b87_0  \n"
     ]
    }
   ],
   "source": [
    "!conda list\n"
   ]
  },
  {
   "cell_type": "code",
   "execution_count": null,
   "metadata": {},
   "outputs": [],
   "source": []
  }
 ],
 "metadata": {
  "kernelspec": {
   "display_name": "Python 3",
   "language": "python",
   "name": "python3"
  },
  "language_info": {
   "codemirror_mode": {
    "name": "ipython",
    "version": 3
   },
   "file_extension": ".py",
   "mimetype": "text/x-python",
   "name": "python",
   "nbconvert_exporter": "python",
   "pygments_lexer": "ipython3",
   "version": "3.11.9"
  }
 },
 "nbformat": 4,
 "nbformat_minor": 4
}
