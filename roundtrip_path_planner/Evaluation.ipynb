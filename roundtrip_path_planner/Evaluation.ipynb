{
 "cells": [
  {
   "cell_type": "markdown",
   "metadata": {},
   "source": [
    "# Description of the Notebook"
   ]
  },
  {
   "cell_type": "code",
   "execution_count": null,
   "metadata": {},
   "outputs": [],
   "source": [
    "################################\n",
    "# Import the necessary libraries\n",
    "################################\n",
    "\n",
    "import numpy as np\n",
    "import matplotlib.pyplot as plt\n",
    "import networkx as nx\n",
    "import heapq\n",
    "import math"
   ]
  },
  {
   "cell_type": "code",
   "execution_count": null,
   "metadata": {},
   "outputs": [],
   "source": [
    "#######################\n",
    "# Planner Configuration\n",
    "#######################\n",
    "\n",
    "\"\"\"\n",
    "An dieser Stelle müssen für alle Algorithmen die Konfigurationen vordefiniert werden,\n",
    "sodass sie später in der GUI ausgewählt werden können und keine weiteren Parameter\n",
    "mehr nötig sind.\n",
    "\n",
    "Kopiert aus IP-X-0-Automated_PlanerTest.ipynb\n",
    "\"\"\"\n",
    "\n",
    "supportedPlanners = dict()\n",
    "\n",
    "basicConfig = dict()\n",
    "basicConfig[\"radius\"] = 3\n",
    "basicConfig[\"numNodes\"] = 200\n",
    "supportedPlanners[\"basePRM\"] = [IPBasicPRM.BasicPRM, basicConfig, IPVISBasicPRM.basicPRMVisualize]\n",
    "\n",
    "basicConfig2 = dict()\n",
    "basicConfig2[\"radius\"] = 6\n",
    "basicConfig2[\"numNodes\"] = 600\n",
    "supportedPlanners[\"basePRM2\"] = [IPBasicPRM.BasicPRM, basicConfig2, IPVISBasicPRM.basicPRMVisualize]\n",
    "\n",
    "visbilityConfig = dict()\n",
    "visbilityConfig[\"ntry\"] = 300\n",
    "supportedPlanners[\"visibilityPRM\"] = [IPVisibilityPRM.VisPRM, visbilityConfig, IPVISVisibilityPRM.visibilityPRMVisualize ]\n",
    "\n",
    "# kClosestConfig = dict()\n",
    "# kClosestConfig[\"k\"] = 7\n",
    "# kClosestConfig[\"numNodes\"] = 300\n",
    "# supportedPlanners[\"kClosestPRM\"] = [IPKClosestPRM.KClosestPRM, kClosestConfig, IPVISBasicPRM.basicPRMVisualize]\n",
    "\n",
    "lazyConfig = dict()\n",
    "lazyConfig[\"initialRoadmapSize\"] = 10\n",
    "lazyConfig[\"updateRoadmapSize\"]  = 5 \n",
    "lazyConfig[\"kNearest\"] = 8\n",
    "supportedPlanners[\"lazyPRM\"] = [IPLazyPRM.LazyPRM, lazyConfig, IPVISLazyPRM.lazyPRMVisualize]\n",
    "\n",
    "astarConfig = dict()\n",
    "astarConfig[\"heuristic\"] = 'euclidean' \n",
    "astarConfig[\"w\"]  = 0.5\n",
    "supportedPlanners[\"astar\"] = [IPAStar.AStar, astarConfig, IPVISAStar.aStarVisualize]\n",
    "\n",
    "# astarConfig2 = dict()\n",
    "# astarConfig2[\"heuristic\"] = 'euclidean' \n",
    "# astarConfig2[\"w\"]  = 0.9\n",
    "# supportedPlanners[\"astar2\"] = [IPAStar.AStar, astarConfig2, IPVISAStar.aStarVisualize]\n",
    "\n",
    "# rrtSimpleConfig = dict()\n",
    "# rrtSimpleConfig[\"numberOfGeneratedNodes\"] = 100 \n",
    "# rrtSimpleConfig[\"testGoalAfterNumberOfNodes\"]  = 10\n",
    "# supportedPlanners[\"simpleRRT\"] = [IPRRT.RRTSimple, rrtSimpleConfig, IPVISRRT.rrtPRMVisualize]"
   ]
  }
 ],
 "metadata": {
  "kernelspec": {
   "display_name": "RPP",
   "language": "python",
   "name": "python3"
  },
  "language_info": {
   "name": "python",
   "version": "3.12.3"
  }
 },
 "nbformat": 4,
 "nbformat_minor": 2
}
