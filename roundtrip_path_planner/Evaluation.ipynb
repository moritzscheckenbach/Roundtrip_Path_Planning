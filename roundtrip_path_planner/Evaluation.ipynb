{
 "cells": [
  {
   "cell_type": "markdown",
   "metadata": {},
   "source": [
    "# Description of the Notebook"
   ]
  },
  {
   "cell_type": "code",
   "execution_count": 7,
   "metadata": {},
   "outputs": [],
   "source": [
    "from IPPerfMonitor import IPPerfMonitor\n",
    "import IPBasicPRM\n",
    "import IPVISBasicPRM\n",
    "import IPVisibilityPRM\n",
    "import IPVISVisibilityPRM\n",
    "\n",
    "import IPLazyPRM\n",
    "import IPVISLazyPRM\n",
    "\n",
    "import IPRRT\n",
    "import IPVISRRT\n",
    "\n",
    "import IPAStar\n",
    "import IPVISAStar\n",
    "\n",
    "import roundtrip_path_planner\n",
    "import IPTestSuiteSS2023"
   ]
  },
  {
   "cell_type": "markdown",
   "metadata": {},
   "source": [
    "# Definition StartPos, TargetPosList, Environment"
   ]
  },
  {
   "cell_type": "markdown",
   "metadata": {},
   "source": [
    "Aufruf des Benchmarks, der Startpos und TargetPosList (wie im IP-X-0-Automated_PlannerTest.ipynb)"
   ]
  },
  {
   "cell_type": "code",
   "execution_count": null,
   "metadata": {},
   "outputs": [],
   "source": []
  },
  {
   "cell_type": "code",
   "execution_count": null,
   "metadata": {},
   "outputs": [],
   "source": []
  },
  {
   "cell_type": "code",
   "execution_count": 13,
   "metadata": {},
   "outputs": [
    {
     "data": {
      "text/plain": [
       "<module 'roundtrip_path_planner' from '/home/moritz_s/Documents/RKIM_1/Roboterprogrammierung/Projektarbeit_Robot_Path_Planning/Roundtrip_Path_Planning/roundtrip_path_planner/roundtrip_path_planner.py'>"
      ]
     },
     "execution_count": 13,
     "metadata": {},
     "output_type": "execute_result"
    }
   ],
   "source": [
    "import importlib\n",
    "importlib.reload(roundtrip_path_planner)"
   ]
  },
  {
   "cell_type": "code",
   "execution_count": 18,
   "metadata": {},
   "outputs": [
    {
     "name": "stdout",
     "output_type": "stream",
     "text": [
      "visibilityPRM [<class 'IPVisibilityPRM.VisPRM'>, {'ntry': 300}, <function visibilityPRMVisualize at 0x776cc8ec1760>]\n",
      "Planning: visibilityPRM - Trap\n",
      "PLANNING ERROR ! PLANNING ERROR ! PLANNING ERROR \n",
      "PLANNING ERROR ! PLANNING ERROR ! PLANNING ERROR \n",
      "PLANNING ERROR ! PLANNING ERROR ! PLANNING ERROR \n"
     ]
    }
   ],
   "source": [
    "######\n",
    "# Test\n",
    "######\n",
    "\n",
    "fullBenchList = IPTestSuiteSS2023.benchList\n",
    "Environment_Test = fullBenchList[0]\n",
    "\n",
    "test_startlist =[[10,15]] \n",
    "test_goallist = [[10,1], [10,5], [10,8]]\n",
    "\n",
    "# Planen = roundtrip_path_planner.Roundtrip_Path_Planner(Environment_Test.startList, Environment_Test.goalList, Environment_Test ,\"basePRM\")\n",
    "Planen = roundtrip_path_planner.Roundtrip_Path_Planner(test_startlist, test_goallist, Environment_Test ,\"visibilityPRM\")\n",
    "Planen.plan()"
   ]
  },
  {
   "cell_type": "code",
   "execution_count": null,
   "metadata": {},
   "outputs": [],
   "source": []
  }
 ],
 "metadata": {
  "kernelspec": {
   "display_name": "RPP",
   "language": "python",
   "name": "python3"
  },
  "language_info": {
   "codemirror_mode": {
    "name": "ipython",
    "version": 3
   },
   "file_extension": ".py",
   "mimetype": "text/x-python",
   "name": "python",
   "nbconvert_exporter": "python",
   "pygments_lexer": "ipython3",
   "version": "3.12.8"
  }
 },
 "nbformat": 4,
 "nbformat_minor": 2
}
