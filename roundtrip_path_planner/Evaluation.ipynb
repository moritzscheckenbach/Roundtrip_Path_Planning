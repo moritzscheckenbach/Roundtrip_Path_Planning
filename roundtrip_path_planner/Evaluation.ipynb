{
 "cells": [
  {
   "cell_type": "markdown",
   "metadata": {},
   "source": [
    "# Description of the Notebook"
   ]
  },
  {
   "cell_type": "code",
   "execution_count": 11,
   "metadata": {},
   "outputs": [],
   "source": [
    "################################\n",
    "# Import the necessary libraries\n",
    "################################\n",
    "\n",
    "import numpy as np\n",
    "import matplotlib.pyplot as plt\n",
    "import networkx as nx\n",
    "import heapq\n",
    "import math\n",
    "\n",
    "################################\n",
    "# Import the necessary libraries\n",
    "################################\n",
    "\n",
    "import numpy as np\n",
    "import matplotlib.pyplot as plt\n",
    "import networkx as nx\n",
    "import heapq\n",
    "import math\n",
    "\n",
    "import IPAStar as IPAStar\n",
    "import IPBasicPRM as IPBasicPRM\n",
    "import IPLazyPRM as IPLazyPRM\n",
    "import IPPRMBase as IPPRMBase\n",
    "import IPRRT as IPRRT\n",
    "import IPVisibilityPRM as IPVisibilityPRM\n",
    "\n",
    "import IPVISBasicPRM as IPVISBasicPRM\n",
    "import IPVISLazyPRM as IPVISLazyPRM\n",
    "import IPVISVisibilityPRM as IPVISVisibilityPRM\n",
    "import IPVISAStar as IPVISAStar\n",
    "import IPVISRRT as IPVISRRT\n",
    "\n",
    "import IPPerfMonitor as IPPerfMonitor\n",
    "import IPBenchmark as IPBenchmark\n",
    "import IPEnvironment as Environment\n",
    "import IPTestSuiteSS2023 as IPTestSuiteSS2023\n",
    "import IPPlanerBase as IPPlanerBase\n",
    "\n",
    "import roundtrip_path_planner as roundtrip_path_planner"
   ]
  },
  {
   "cell_type": "markdown",
   "metadata": {},
   "source": [
    "# Definition StartPos, TargetPosList, Environment"
   ]
  },
  {
   "cell_type": "markdown",
   "metadata": {},
   "source": [
    "Aufruf des Benchmarks, der Startpos und TargetPosList (wie im IP-X-0-Automated_PlannerTest.ipynb)"
   ]
  },
  {
   "cell_type": "code",
   "execution_count": null,
   "metadata": {},
   "outputs": [],
   "source": []
  },
  {
   "cell_type": "code",
   "execution_count": null,
   "metadata": {},
   "outputs": [],
   "source": []
  },
  {
   "cell_type": "code",
   "execution_count": 18,
   "metadata": {},
   "outputs": [
    {
     "data": {
      "text/plain": [
       "<module 'roundtrip_path_planner' from '/home/moritz_s/Documents/RKIM_1/Roboterprogrammierung/Projektarbeit_Robot_Path_Planning/Roundtrip_Path_Planning/roundtrip_path_planner/roundtrip_path_planner.py'>"
      ]
     },
     "execution_count": 18,
     "metadata": {},
     "output_type": "execute_result"
    }
   ],
   "source": [
    "import importlib\n",
    "importlib.reload(roundtrip_path_planner)"
   ]
  },
  {
   "cell_type": "code",
   "execution_count": 19,
   "metadata": {},
   "outputs": [
    {
     "name": "stdout",
     "output_type": "stream",
     "text": [
      "basePRM [<class 'IPBasicPRM.BasicPRM'>, {'radius': 3, 'numNodes': 200}, <function basicPRMVisualize at 0x72b1875396c0>]\n",
      "Planning: basePRM - Trap\n"
     ]
    },
    {
     "ename": "AttributeError",
     "evalue": "module 'IPPerfMonitor' has no attribute 'clearData'",
     "output_type": "error",
     "traceback": [
      "\u001b[0;31m---------------------------------------------------------------------------\u001b[0m",
      "\u001b[0;31mAttributeError\u001b[0m                            Traceback (most recent call last)",
      "Cell \u001b[0;32mIn[19], line 9\u001b[0m\n\u001b[1;32m      6\u001b[0m Environment_Test \u001b[38;5;241m=\u001b[39m fullBenchList[\u001b[38;5;241m0\u001b[39m]\n\u001b[1;32m      8\u001b[0m Planen \u001b[38;5;241m=\u001b[39m roundtrip_path_planner\u001b[38;5;241m.\u001b[39mRoundtrip_Path_Planner(Environment_Test\u001b[38;5;241m.\u001b[39mstartList, Environment_Test\u001b[38;5;241m.\u001b[39mgoalList, Environment_Test ,\u001b[38;5;124m\"\u001b[39m\u001b[38;5;124mbasePRM\u001b[39m\u001b[38;5;124m\"\u001b[39m)\n\u001b[0;32m----> 9\u001b[0m \u001b[43mPlanen\u001b[49m\u001b[38;5;241;43m.\u001b[39;49m\u001b[43mplan\u001b[49m\u001b[43m(\u001b[49m\u001b[43m)\u001b[49m\n",
      "File \u001b[0;32m~/Documents/RKIM_1/Roboterprogrammierung/Projektarbeit_Robot_Path_Planning/Roundtrip_Path_Planning/roundtrip_path_planner/roundtrip_path_planner.py:134\u001b[0m, in \u001b[0;36mRoundtrip_Path_Planner.plan\u001b[0;34m(self)\u001b[0m\n\u001b[1;32m    132\u001b[0m \u001b[38;5;28mprint\u001b[39m (\u001b[38;5;124m\"\u001b[39m\u001b[38;5;124mPlanning: \u001b[39m\u001b[38;5;124m\"\u001b[39m \u001b[38;5;241m+\u001b[39m key \u001b[38;5;241m+\u001b[39m \u001b[38;5;124m\"\u001b[39m\u001b[38;5;124m - \u001b[39m\u001b[38;5;124m\"\u001b[39m \u001b[38;5;241m+\u001b[39m \u001b[38;5;28mself\u001b[39m\u001b[38;5;241m.\u001b[39menvironment\u001b[38;5;241m.\u001b[39mname)\n\u001b[1;32m    133\u001b[0m planner \u001b[38;5;241m=\u001b[39m producer[\u001b[38;5;241m0\u001b[39m](\u001b[38;5;28mself\u001b[39m\u001b[38;5;241m.\u001b[39menvironment\u001b[38;5;241m.\u001b[39mcollisionChecker) \u001b[38;5;66;03m# Aufruf erstes Element aus producer (Klasse des Planers) und Aufruf der Methode Benchmark.collisionChecker\u001b[39;00m\n\u001b[0;32m--> 134\u001b[0m \u001b[43mIPPerfMonitor\u001b[49m\u001b[38;5;241;43m.\u001b[39;49m\u001b[43mclearData\u001b[49m() \u001b[38;5;66;03m# Löscht die Daten aus dem Dataframe des Performance Monitors\u001b[39;00m\n\u001b[1;32m    136\u001b[0m \u001b[38;5;250m\u001b[39m\u001b[38;5;124;03m\"\"\"TBD: Evtl. Anpassung des Auswahlverfahrens für das nächste Ziel\"\"\"\u001b[39;00m\n\u001b[1;32m    137\u001b[0m usedstart \u001b[38;5;241m=\u001b[39m \u001b[38;5;28mself\u001b[39m\u001b[38;5;241m.\u001b[39mstartpos\n",
      "\u001b[0;31mAttributeError\u001b[0m: module 'IPPerfMonitor' has no attribute 'clearData'"
     ]
    }
   ],
   "source": [
    "######\n",
    "# Test\n",
    "######\n",
    "\n",
    "fullBenchList = IPTestSuiteSS2023.benchList\n",
    "Environment_Test = fullBenchList[0]\n",
    "\n",
    "Planen = roundtrip_path_planner.Roundtrip_Path_Planner(Environment_Test.startList, Environment_Test.goalList, Environment_Test ,\"basePRM\")\n",
    "Planen.plan()"
   ]
  },
  {
   "cell_type": "code",
   "execution_count": null,
   "metadata": {},
   "outputs": [],
   "source": []
  }
 ],
 "metadata": {
  "kernelspec": {
   "display_name": "RPP",
   "language": "python",
   "name": "python3"
  },
  "language_info": {
   "codemirror_mode": {
    "name": "ipython",
    "version": 3
   },
   "file_extension": ".py",
   "mimetype": "text/x-python",
   "name": "python",
   "nbconvert_exporter": "python",
   "pygments_lexer": "ipython3",
   "version": "3.12.8"
  }
 },
 "nbformat": 4,
 "nbformat_minor": 2
}
