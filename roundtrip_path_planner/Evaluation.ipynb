{
 "cells": [
  {
   "cell_type": "markdown",
   "metadata": {},
   "source": [
    "# Description of the Notebook"
   ]
  },
  {
   "cell_type": "code",
   "execution_count": 24,
   "metadata": {},
   "outputs": [],
   "source": [
    "from IPPerfMonitor import IPPerfMonitor\n",
    "import IPBasicPRM\n",
    "import IPVISBasicPRM\n",
    "import IPVisibilityPRM\n",
    "import IPVISVisibilityPRM\n",
    "\n",
    "import IPLazyPRM\n",
    "import IPVISLazyPRM\n",
    "\n",
    "import IPRRT\n",
    "import IPVISRRT\n",
    "\n",
    "import IPAStar\n",
    "import IPVISAStar"
   ]
  },
  {
   "cell_type": "markdown",
   "metadata": {},
   "source": [
    "# Definition StartPos, TargetPosList, Environment"
   ]
  },
  {
   "cell_type": "markdown",
   "metadata": {},
   "source": [
    "Aufruf des Benchmarks, der Startpos und TargetPosList (wie im IP-X-0-Automated_PlannerTest.ipynb)"
   ]
  },
  {
   "cell_type": "code",
   "execution_count": null,
   "metadata": {},
   "outputs": [],
   "source": []
  },
  {
   "cell_type": "code",
   "execution_count": null,
   "metadata": {},
   "outputs": [],
   "source": []
  },
  {
   "cell_type": "code",
   "execution_count": 22,
   "metadata": {},
   "outputs": [
    {
     "data": {
      "text/plain": [
       "<module 'roundtrip_path_planner' from '/home/moritz_s/Documents/RKIM_1/Roboterprogrammierung/Projektarbeit_Robot_Path_Planning/Roundtrip_Path_Planning/roundtrip_path_planner/roundtrip_path_planner.py'>"
      ]
     },
     "execution_count": 22,
     "metadata": {},
     "output_type": "execute_result"
    }
   ],
   "source": [
    "import importlib\n",
    "importlib.reload(roundtrip_path_planner)"
   ]
  },
  {
   "cell_type": "code",
   "execution_count": 23,
   "metadata": {},
   "outputs": [
    {
     "name": "stdout",
     "output_type": "stream",
     "text": [
      "basePRM [<class 'IPBasicPRM.BasicPRM'>, {'radius': 3, 'numNodes': 200}, <function basicPRMVisualize at 0x72b1875396c0>]\n",
      "Planning: basePRM - Trap\n"
     ]
    },
    {
     "ename": "TypeError",
     "evalue": "unsupported operand type(s) for -: 'list' and 'int'",
     "output_type": "error",
     "traceback": [
      "\u001b[0;31m---------------------------------------------------------------------------\u001b[0m",
      "\u001b[0;31mTypeError\u001b[0m                                 Traceback (most recent call last)",
      "Cell \u001b[0;32mIn[23], line 9\u001b[0m\n\u001b[1;32m      6\u001b[0m Environment_Test \u001b[38;5;241m=\u001b[39m fullBenchList[\u001b[38;5;241m0\u001b[39m]\n\u001b[1;32m      8\u001b[0m Planen \u001b[38;5;241m=\u001b[39m roundtrip_path_planner\u001b[38;5;241m.\u001b[39mRoundtrip_Path_Planner(Environment_Test\u001b[38;5;241m.\u001b[39mstartList, Environment_Test\u001b[38;5;241m.\u001b[39mgoalList, Environment_Test ,\u001b[38;5;124m\"\u001b[39m\u001b[38;5;124mbasePRM\u001b[39m\u001b[38;5;124m\"\u001b[39m)\n\u001b[0;32m----> 9\u001b[0m \u001b[43mPlanen\u001b[49m\u001b[38;5;241;43m.\u001b[39;49m\u001b[43mplan\u001b[49m\u001b[43m(\u001b[49m\u001b[43m)\u001b[49m\n",
      "File \u001b[0;32m~/Documents/RKIM_1/Roboterprogrammierung/Projektarbeit_Robot_Path_Planning/Roundtrip_Path_Planning/roundtrip_path_planner/roundtrip_path_planner.py:143\u001b[0m, in \u001b[0;36mRoundtrip_Path_Planner.plan\u001b[0;34m(self)\u001b[0m\n\u001b[1;32m    141\u001b[0m min_distance \u001b[38;5;241m=\u001b[39m \u001b[38;5;28mfloat\u001b[39m(\u001b[38;5;124m'\u001b[39m\u001b[38;5;124minf\u001b[39m\u001b[38;5;124m'\u001b[39m)\n\u001b[1;32m    142\u001b[0m \u001b[38;5;28;01mfor\u001b[39;00m goal \u001b[38;5;129;01min\u001b[39;00m goals:\n\u001b[0;32m--> 143\u001b[0m     distance \u001b[38;5;241m=\u001b[39m math\u001b[38;5;241m.\u001b[39msqrt((\u001b[43musedstart\u001b[49m\u001b[43m[\u001b[49m\u001b[38;5;241;43m0\u001b[39;49m\u001b[43m]\u001b[49m\u001b[43m \u001b[49m\u001b[38;5;241;43m-\u001b[39;49m\u001b[43m \u001b[49m\u001b[43mgoal\u001b[49m\u001b[43m[\u001b[49m\u001b[38;5;241;43m0\u001b[39;49m\u001b[43m]\u001b[49m) \u001b[38;5;241m*\u001b[39m\u001b[38;5;241m*\u001b[39m \u001b[38;5;241m2\u001b[39m \u001b[38;5;241m+\u001b[39m (usedstart[\u001b[38;5;241m1\u001b[39m] \u001b[38;5;241m-\u001b[39m goal[\u001b[38;5;241m1\u001b[39m]) \u001b[38;5;241m*\u001b[39m\u001b[38;5;241m*\u001b[39m \u001b[38;5;241m2\u001b[39m)\n\u001b[1;32m    144\u001b[0m     \u001b[38;5;28;01mif\u001b[39;00m distance \u001b[38;5;241m<\u001b[39m min_distance:\n\u001b[1;32m    145\u001b[0m         min_distance \u001b[38;5;241m=\u001b[39m distance\n",
      "\u001b[0;31mTypeError\u001b[0m: unsupported operand type(s) for -: 'list' and 'int'"
     ]
    }
   ],
   "source": [
    "######\n",
    "# Test\n",
    "######\n",
    "\n",
    "fullBenchList = IPTestSuiteSS2023.benchList\n",
    "Environment_Test = fullBenchList[0]\n",
    "\n",
    "Planen = roundtrip_path_planner.Roundtrip_Path_Planner(Environment_Test.startList, Environment_Test.goalList, Environment_Test ,\"basePRM\")\n",
    "Planen.plan()"
   ]
  },
  {
   "cell_type": "code",
   "execution_count": null,
   "metadata": {},
   "outputs": [],
   "source": []
  }
 ],
 "metadata": {
  "kernelspec": {
   "display_name": "RPP",
   "language": "python",
   "name": "python3"
  },
  "language_info": {
   "codemirror_mode": {
    "name": "ipython",
    "version": 3
   },
   "file_extension": ".py",
   "mimetype": "text/x-python",
   "name": "python",
   "nbconvert_exporter": "python",
   "pygments_lexer": "ipython3",
   "version": "3.12.8"
  }
 },
 "nbformat": 4,
 "nbformat_minor": 2
}
