{
 "cells": [
  {
   "cell_type": "markdown",
   "metadata": {},
   "source": [
    "# Description of the Notebook"
   ]
  },
  {
   "cell_type": "code",
   "execution_count": 1,
   "metadata": {},
   "outputs": [],
   "source": [
    "from IPPerfMonitor import IPPerfMonitor\n",
    "import IPBasicPRM\n",
    "import IPVISBasicPRM\n",
    "import IPVisibilityPRM\n",
    "import IPVISVisibilityPRM\n",
    "\n",
    "import IPLazyPRM\n",
    "import IPVISLazyPRM\n",
    "\n",
    "import IPRRT\n",
    "import IPVISRRT\n",
    "\n",
    "import IPAStar\n",
    "import IPVISAStar\n",
    "\n",
    "import roundtrip_path_planner\n",
    "import IPTestSuiteSS2023\n",
    "\n",
    "import matplotlib.pyplot as plt"
   ]
  },
  {
   "cell_type": "markdown",
   "metadata": {},
   "source": [
    "# Definition StartPos, TargetPosList, Environment"
   ]
  },
  {
   "cell_type": "markdown",
   "metadata": {},
   "source": [
    "Aufruf des Benchmarks, der Startpos und TargetPosList (wie im IP-X-0-Automated_PlannerTest.ipynb)"
   ]
  },
  {
   "cell_type": "code",
   "execution_count": null,
   "metadata": {},
   "outputs": [],
   "source": []
  },
  {
   "cell_type": "code",
   "execution_count": null,
   "metadata": {},
   "outputs": [],
   "source": []
  },
  {
   "cell_type": "code",
   "execution_count": null,
   "metadata": {},
   "outputs": [],
   "source": [
    "import importlib\n",
    "importlib.reload(roundtrip_path_planner)"
   ]
  },
  {
   "cell_type": "code",
   "execution_count": null,
   "metadata": {},
   "outputs": [],
   "source": [
    "######\n",
    "# Test\n",
    "######\n",
    "\n",
    "fullBenchList = IPTestSuiteSS2023.benchList\n",
    "Environment_Test = fullBenchList[0]\n",
    "\n",
    "test_startlist =[[10,15]] \n",
    "test_goallist = [[10,3], [12,6], [8,4]]\n",
    "\n",
    "# Planen = roundtrip_path_planner.Roundtrip_Path_Planner(Environment_Test.startList, Environment_Test.goalList, Environment_Test ,\"basePRM\")\n",
    "Planen = roundtrip_path_planner.Roundtrip_Path_Planner(test_startlist, test_goallist, Environment_Test ,\"visibilityPRM_custom\")\n",
    "Planen.plan()\n"
   ]
  },
  {
   "cell_type": "code",
   "execution_count": null,
   "metadata": {},
   "outputs": [],
   "source": []
  }
 ],
 "metadata": {
  "kernelspec": {
   "display_name": "RPP",
   "language": "python",
   "name": "python3"
  },
  "language_info": {
   "codemirror_mode": {
    "name": "ipython",
    "version": 3
   },
   "file_extension": ".py",
   "mimetype": "text/x-python",
   "name": "python",
   "nbconvert_exporter": "python",
   "pygments_lexer": "ipython3",
   "version": "3.12.8"
  }
 },
 "nbformat": 4,
 "nbformat_minor": 2
}
