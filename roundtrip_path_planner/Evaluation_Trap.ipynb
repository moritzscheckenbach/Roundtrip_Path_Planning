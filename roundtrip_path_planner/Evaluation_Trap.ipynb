{
 "cells": [
  {
   "cell_type": "markdown",
   "metadata": {},
   "source": [
    "# Evaluation Trap"
   ]
  },
  {
   "cell_type": "markdown",
   "metadata": {},
   "source": [
    "## Imports"
   ]
  },
  {
   "cell_type": "code",
   "execution_count": 1,
   "metadata": {},
   "outputs": [],
   "source": [
    "import numpy as np\n",
    "import matplotlib.pyplot as plt\n",
    "import pandas as pd\n",
    "import roundtrip_path_planner\n",
    "import IPTestSuiteSS2023\n",
    "fullBenchList = IPTestSuiteSS2023.benchList\n",
    "Results = list()"
   ]
  },
  {
   "cell_type": "markdown",
   "metadata": {},
   "source": [
    "## Basic PRM"
   ]
  },
  {
   "cell_type": "code",
   "execution_count": null,
   "metadata": {},
   "outputs": [],
   "source": [
    "Environment_Test = fullBenchList[0]\n",
    "\n",
    "StartList =[[3, 20]] \n",
    "GoalList = [[10, 10], [20,3], [18,18]]\n",
    "\n",
    "# Planen = roundtrip_path_planner.Roundtrip_Path_Planner(Environment_Test.startList, Environment_Test.goalList, Environment_Test ,\"basePRM\")\n",
    "Planen = roundtrip_path_planner.Roundtrip_Path_Planner(StartList, GoalList, Environment_Test ,\"basePRM\")\n",
    "Results.append(Planen.plan())"
   ]
  },
  {
   "cell_type": "markdown",
   "metadata": {},
   "source": [
    "## Lazy PRM"
   ]
  },
  {
   "cell_type": "code",
   "execution_count": null,
   "metadata": {},
   "outputs": [],
   "source": [
    "Environment_Test = fullBenchList[0]\n",
    "\n",
    "StartList =[[3, 20]] \n",
    "GoalList = [[10, 10], [20,3], [18,18]]\n",
    "\n",
    "# Planen = roundtrip_path_planner.Roundtrip_Path_Planner(Environment_Test.startList, Environment_Test.goalList, Environment_Test ,\"basePRM\")\n",
    "Planen = roundtrip_path_planner.Roundtrip_Path_Planner(StartList, GoalList, Environment_Test ,\"lazyPRM\")\n",
    "Ergebnisse = Planen.plan()\n",
    "# Results.append(Planen.plan())"
   ]
  },
  {
   "cell_type": "code",
   "execution_count": null,
   "metadata": {},
   "outputs": [],
   "source": [
    "Results.append(Ergebnisse)"
   ]
  },
  {
   "cell_type": "markdown",
   "metadata": {},
   "source": [
    "## Visibility PRM"
   ]
  },
  {
   "cell_type": "code",
   "execution_count": null,
   "metadata": {},
   "outputs": [],
   "source": [
    "Environment_Test = fullBenchList[0]\n",
    "\n",
    "StartList =[[3, 20]] \n",
    "GoalList = [[10, 10], [20,3], [18,18]]\n",
    "\n",
    "# Planen = roundtrip_path_planner.Roundtrip_Path_Planner(Environment_Test.startList, Environment_Test.goalList, Environment_Test ,\"basePRM\")\n",
    "Planen = roundtrip_path_planner.Roundtrip_Path_Planner(StartList, GoalList, Environment_Test ,\"visibilityPRM\")\n",
    "Results.append(Planen.plan())"
   ]
  },
  {
   "cell_type": "markdown",
   "metadata": {},
   "source": [
    "## Optimized Visibility PRM"
   ]
  },
  {
   "cell_type": "code",
   "execution_count": 1,
   "metadata": {},
   "outputs": [],
   "source": [
    "import numpy as np\n",
    "import matplotlib.pyplot as plt\n",
    "import pandas as pd\n",
    "import roundtrip_path_planner\n",
    "import IPTestSuiteSS2023\n",
    "fullBenchList = IPTestSuiteSS2023.benchList\n",
    "\n",
    "Results = list()"
   ]
  },
  {
   "cell_type": "code",
   "execution_count": 2,
   "metadata": {},
   "outputs": [
    {
     "name": "stdout",
     "output_type": "stream",
     "text": [
      "visibilityPRM_custom [<class 'IPVisibilityPRM_Customized.VisPRM_Custom'>, {'ntry': 300}, <function visibilityPRM_custom_Visualize at 0x0000023DB518F420>]\n",
      "Planning: visibilityPRM_custom - Trap\n",
      "Startpos: [3, 20]\n",
      "Goalpos: [[10, 10], [18, 18], [20, 3]]\n",
      "Vor final_graph. i:  0\n",
      "Producer:  {'ntry': 300}\n",
      "Config, Num Nodes: 300\n",
      "Config, Datatype: <class 'int'>\n",
      "Current node number: 4\n",
      "New node number: 5\n"
     ]
    },
    {
     "ename": "KeyError",
     "evalue": "'nodeType'",
     "output_type": "error",
     "traceback": [
      "\u001b[1;31m---------------------------------------------------------------------------\u001b[0m",
      "\u001b[1;31mKeyError\u001b[0m                                  Traceback (most recent call last)",
      "Cell \u001b[1;32mIn[2], line 9\u001b[0m\n\u001b[0;32m      7\u001b[0m Planen \u001b[38;5;241m=\u001b[39m roundtrip_path_planner\u001b[38;5;241m.\u001b[39mRoundtrip_Path_Planner(StartList, GoalList, Environment_Test ,\u001b[38;5;124m\"\u001b[39m\u001b[38;5;124mvisibilityPRM_custom\u001b[39m\u001b[38;5;124m\"\u001b[39m)\n\u001b[0;32m      8\u001b[0m \u001b[38;5;66;03m#Results.append(Planen.plan())\u001b[39;00m\n\u001b[1;32m----> 9\u001b[0m Results\u001b[38;5;241m.\u001b[39mappend(Planen\u001b[38;5;241m.\u001b[39mplan())\n",
      "File \u001b[1;32mc:\\Users\\Charon\\Unterlagen\\Uni\\Master\\RKIM_Roboterprogrammierung\\Roundtrip_Path_Planning\\Roundtrip_Path_Planning-1\\roundtrip_path_planner\\roundtrip_path_planner.py:324\u001b[0m, in \u001b[0;36mRoundtrip_Path_Planner.plan\u001b[1;34m(self)\u001b[0m\n\u001b[0;32m    322\u001b[0m \u001b[38;5;28mprint\u001b[39m(\u001b[38;5;124m'\u001b[39m\u001b[38;5;124mVor final_graph. i: \u001b[39m\u001b[38;5;124m'\u001b[39m, i)\n\u001b[0;32m    323\u001b[0m \u001b[38;5;28mprint\u001b[39m(\u001b[38;5;124m'\u001b[39m\u001b[38;5;124mProducer: \u001b[39m\u001b[38;5;124m'\u001b[39m, producer[\u001b[38;5;241m1\u001b[39m])\n\u001b[1;32m--> 324\u001b[0m final_graph \u001b[38;5;241m=\u001b[39m planner\u001b[38;5;241m.\u001b[39mcreateGraph([usedstart], pastgoals, producer[\u001b[38;5;241m1\u001b[39m])\n\u001b[0;32m    325\u001b[0m \u001b[38;5;28mprint\u001b[39m(\u001b[38;5;124m'\u001b[39m\u001b[38;5;124mIm final Graph: \u001b[39m\u001b[38;5;124m'\u001b[39m, final_graph)\n\u001b[0;32m    326\u001b[0m \u001b[38;5;66;03m#try:\u001b[39;00m\n",
      "File \u001b[1;32mc:\\Users\\Charon\\Unterlagen\\Uni\\Master\\RKIM_Roboterprogrammierung\\Roundtrip_Path_Planning\\Roundtrip_Path_Planning-1\\roundtrip_path_planner\\IPVisibilityPRM_Customized.py:206\u001b[0m, in \u001b[0;36mVisPRM_Custom.createGraph\u001b[1;34m(self, startList, goalList, config)\u001b[0m\n\u001b[0;32m    204\u001b[0m \u001b[38;5;28mprint\u001b[39m(\u001b[38;5;124m\"\u001b[39m\u001b[38;5;124mConfig, Datatype:\u001b[39m\u001b[38;5;124m\"\u001b[39m, \u001b[38;5;28mtype\u001b[39m(config[\u001b[38;5;124m\"\u001b[39m\u001b[38;5;124mntry\u001b[39m\u001b[38;5;124m\"\u001b[39m]))\n\u001b[0;32m    205\u001b[0m \u001b[38;5;28;01mfor\u001b[39;00m i \u001b[38;5;129;01min\u001b[39;00m \u001b[38;5;28mrange\u001b[39m(\u001b[38;5;241m0\u001b[39m, config[\u001b[38;5;124m\"\u001b[39m\u001b[38;5;124mntry\u001b[39m\u001b[38;5;124m\"\u001b[39m]\u001b[38;5;241m/\u001b[39m\u001b[38;5;241m/\u001b[39mstep_size):\n\u001b[1;32m--> 206\u001b[0m     \u001b[38;5;28mself\u001b[39m\u001b[38;5;241m.\u001b[39m_learnRoadmap(step_size)\n\u001b[0;32m    207\u001b[0m     \u001b[38;5;28mprint\u001b[39m(\u001b[38;5;124m'\u001b[39m\u001b[38;5;124mi:\u001b[39m\u001b[38;5;124m'\u001b[39m, i)\n\u001b[0;32m    208\u001b[0m     \u001b[38;5;28;01mtry\u001b[39;00m:\n\u001b[0;32m    209\u001b[0m         \n\u001b[0;32m    210\u001b[0m \n\u001b[0;32m    211\u001b[0m         \u001b[38;5;66;03m# 3. find connection of start and goal to roadmap\u001b[39;00m\n\u001b[0;32m    212\u001b[0m         \u001b[38;5;66;03m# find nearest, collision-free connection between node on graph and start\u001b[39;00m\n",
      "File \u001b[1;32mc:\\Users\\Charon\\Unterlagen\\Uni\\Master\\RKIM_Roboterprogrammierung\\Roundtrip_Path_Planning\\Roundtrip_Path_Planning-1\\roundtrip_path_planner\\IPPerfMonitor.py:27\u001b[0m, in \u001b[0;36mIPPerfMonitor.__call__\u001b[1;34m(self, *args, **kwargs)\u001b[0m\n\u001b[0;32m     24\u001b[0m \u001b[38;5;28;01mdef\u001b[39;00m \u001b[38;5;21m__call__\u001b[39m(\u001b[38;5;28mself\u001b[39m, \u001b[38;5;241m*\u001b[39margs, \u001b[38;5;241m*\u001b[39m\u001b[38;5;241m*\u001b[39mkwargs):\n\u001b[0;32m     26\u001b[0m     starttime \u001b[38;5;241m=\u001b[39m time\u001b[38;5;241m.\u001b[39mtime()\n\u001b[1;32m---> 27\u001b[0m     ret \u001b[38;5;241m=\u001b[39m \u001b[38;5;28mself\u001b[39m\u001b[38;5;241m.\u001b[39m__f(\u001b[38;5;241m*\u001b[39margs, \u001b[38;5;241m*\u001b[39m\u001b[38;5;241m*\u001b[39mkwargs)\n\u001b[0;32m     28\u001b[0m     endtime \u001b[38;5;241m=\u001b[39m time\u001b[38;5;241m.\u001b[39mtime()\n\u001b[0;32m     29\u001b[0m     element \u001b[38;5;241m=\u001b[39m {\u001b[38;5;124m'\u001b[39m\u001b[38;5;124margs\u001b[39m\u001b[38;5;124m'\u001b[39m: args, \u001b[38;5;124m'\u001b[39m\u001b[38;5;124mkwargs\u001b[39m\u001b[38;5;124m'\u001b[39m: kwargs, \u001b[38;5;124m\"\u001b[39m\u001b[38;5;124mretVal\u001b[39m\u001b[38;5;124m\"\u001b[39m: ret, \u001b[38;5;124m\"\u001b[39m\u001b[38;5;124mtime\u001b[39m\u001b[38;5;124m\"\u001b[39m: endtime\u001b[38;5;241m-\u001b[39mstarttime}\n",
      "File \u001b[1;32mc:\\Users\\Charon\\Unterlagen\\Uni\\Master\\RKIM_Roboterprogrammierung\\Roundtrip_Path_Planning\\Roundtrip_Path_Planning-1\\roundtrip_path_planner\\IPVisibilityPRM_Customized.py:68\u001b[0m, in \u001b[0;36mVisPRM_Custom._learnRoadmap\u001b[1;34m(self, ntry)\u001b[0m\n\u001b[0;32m     66\u001b[0m merged \u001b[38;5;241m=\u001b[39m \u001b[38;5;28;01mFalse\u001b[39;00m\n\u001b[0;32m     67\u001b[0m \u001b[38;5;28;01mfor\u001b[39;00m g \u001b[38;5;129;01min\u001b[39;00m comp: \u001b[38;5;66;03m# connected components consists of guards and connection: only test nodes of type 'Guards'\u001b[39;00m\n\u001b[1;32m---> 68\u001b[0m     \u001b[38;5;28;01mif\u001b[39;00m \u001b[38;5;28mself\u001b[39m\u001b[38;5;241m.\u001b[39mgraph\u001b[38;5;241m.\u001b[39mnodes()[g][\u001b[38;5;124m'\u001b[39m\u001b[38;5;124mnodeType\u001b[39m\u001b[38;5;124m'\u001b[39m] \u001b[38;5;241m==\u001b[39m \u001b[38;5;124m'\u001b[39m\u001b[38;5;124mGuard\u001b[39m\u001b[38;5;124m'\u001b[39m:\n\u001b[0;32m     69\u001b[0m         \u001b[38;5;28;01mif\u001b[39;00m \u001b[38;5;28mself\u001b[39m\u001b[38;5;241m.\u001b[39mstatsHandler:\n\u001b[0;32m     70\u001b[0m             \u001b[38;5;28mself\u001b[39m\u001b[38;5;241m.\u001b[39mstatsHandler\u001b[38;5;241m.\u001b[39maddVisTest(nodeNumber, g)\n",
      "\u001b[1;31mKeyError\u001b[0m: 'nodeType'"
     ]
    }
   ],
   "source": [
    "Environment_Test = fullBenchList[0]\n",
    "\n",
    "StartList =[[3, 20]] \n",
    "GoalList = [[10, 10], [20,3], [18,18]]\n",
    "\n",
    "# Planen = roundtrip_path_planner.Roundtrip_Path_Planner(Environment_Test.startList, Environment_Test.goalList, Environment_Test ,\"basePRM\")\n",
    "Planen = roundtrip_path_planner.Roundtrip_Path_Planner(StartList, GoalList, Environment_Test ,\"visibilityPRM_custom\")\n",
    "#Results.append(Planen.plan())\n",
    "Results.append(Planen.plan())"
   ]
  },
  {
   "cell_type": "code",
   "execution_count": null,
   "metadata": {},
   "outputs": [],
   "source": [
    "print(Results[3][0].solution)"
   ]
  },
  {
   "cell_type": "code",
   "execution_count": null,
   "metadata": {},
   "outputs": [],
   "source": [
    "variables = {}\n",
    "\n",
    "for i in range(len(Results[0])):\n",
    "    variable_name = f\"Durchlauf_{i+1}\"\n",
    "    variables[variable_name] = []\n",
    "\n",
    "for i in range(len(Results[0])):\n",
    "    for algorithm in Results:\n",
    "        variables[f\"Durchlauf_{i+1}\"].append(algorithm[i])\n",
    "\n",
    "# Ergebnis ausgeben\n",
    "for name, liste in variables.items():\n",
    "    print(f\"{name}: {liste}\")\n",
    " \n"
   ]
  },
  {
   "cell_type": "code",
   "execution_count": null,
   "metadata": {},
   "outputs": [],
   "source": [
    "for i in range(len(Results[0])):\n",
    "    key = f\"Durchlauf_{i+1}\"\n",
    "    if key in variables:\n",
    "        # PerfMonitor aufrufen\n",
    "        Durchlaufliste = variables[key]\n",
    "        \n",
    "    else:\n",
    "        print(f\"Key {key} does not exist in the dictionary.\")"
   ]
  },
  {
   "cell_type": "code",
   "execution_count": null,
   "metadata": {},
   "outputs": [],
   "source": [
    "for i in range(len(Results[0])):\n",
    "    key = f\"Durchlauf_{i+1}\"\n",
    "    if key in variables:\n",
    "        # PerfMonitor aufrufen\n",
    "        Durchlaufliste = variables[key]\n",
    "\n",
    "\n",
    "        title = Results[0][0].benchmark.name\n",
    "        pathLength = dict()\n",
    "        planningTime = dict()\n",
    "        roadmapSize  = dict()\n",
    "\n",
    "        try:\n",
    "            for result in Durchlaufliste:\n",
    "                if result.benchmark.name == title:\n",
    "                    #print result.benchmark.name  + \" - \" +  result.plannerFactoryName, len(result.solution)\n",
    "                    pathLength[result.plannerFactoryName] = len(result.solution)\n",
    "                    planningTime[result.plannerFactoryName] = result.perfDataFrame.groupby([\"name\"]).sum(numeric_only=True)[\"time\"][\"planPath\"]\n",
    "                    roadmapSize[result.plannerFactoryName] = result.planner.graph.size()\n",
    "\n",
    "\n",
    "            fig, ax = plt.subplots()\n",
    "\n",
    "            width = 0.2\n",
    "\n",
    "            ax.bar(np.arange(len(pathLength.keys())), pathLength.values(),width, color=\"blue\")\n",
    "            ax.set_ylabel(title + \" Path length (number of nodes!)\", color=\"blue\")\n",
    "            ax.set_xticks(np.arange(len(pathLength.keys())) + width)\n",
    "            ax.set_xticklabels(pathLength.keys())\n",
    "\n",
    "            ax2 = ax.twinx()\n",
    "            bar = ax2.bar(np.arange(len(pathLength.keys()))+width, planningTime.values(),width, color=\"red\")\n",
    "            ax2.set_ylabel(title + \" Planning time\", color=\"y\")\n",
    "\n",
    "            # Add coloring and patterns on axis two\n",
    "            hatches = ['x' if length==0 else '' for length in pathLength.values()]\n",
    "            color   = ['red' if length==0 else 'yellow' for length in pathLength.values()]\n",
    "            for i,thisbar in enumerate(bar.patches):\n",
    "                thisbar.set_facecolor(color[i])\n",
    "                thisbar.set_hatch(hatches[i])\n",
    "\n",
    "            # Multiple axes \n",
    "            ax3 = ax.twinx()\n",
    "            ax3.bar(np.arange(len(pathLength.keys()))+2*width, roadmapSize.values(),width, color=\"purple\")\n",
    "            ax3.set_ylabel(title + \" Roadmap size\",  color=\"purple\")\n",
    "            ax3.spines['right'].set_position(('axes', 1.15))\n",
    "            ax3.spines['right'].set_color(\"purple\")\n",
    "        except:\n",
    "            pass\n",
    "\n",
    "\n",
    "    else:\n",
    "        print(f\"Key {key} does not exist in the dictionary.\")"
   ]
  },
  {
   "cell_type": "code",
   "execution_count": null,
   "metadata": {},
   "outputs": [],
   "source": []
  }
 ],
 "metadata": {
  "kernelspec": {
   "display_name": "base",
   "language": "python",
   "name": "python3"
  },
  "language_info": {
   "codemirror_mode": {
    "name": "ipython",
    "version": 3
   },
   "file_extension": ".py",
   "mimetype": "text/x-python",
   "name": "python",
   "nbconvert_exporter": "python",
   "pygments_lexer": "ipython3",
   "version": "3.12.4"
  }
 },
 "nbformat": 4,
 "nbformat_minor": 2
}
